{
 "cells": [
  {
   "cell_type": "markdown",
   "metadata": {},
   "source": [
    "## Scraper Fundamentus\n",
    "\n",
    "Scraper para ler/coletar automaticamente dados de todas as empresas listadas no site http://fundamentus.com.br/, viabilizando uma análise mais automatizada dos valores fundamentalista destas empresas."
   ]
  },
  {
   "cell_type": "code",
   "execution_count": null,
   "metadata": {
    "colab": {},
    "colab_type": "code",
    "id": "Dz70yAXogw2_"
   },
   "outputs": [],
   "source": [
    "# instala bibliotecas externas\n",
    "!pip install requests\n",
    "!pip install lxml\n",
    "\n",
    "# import\n",
    "import re\n",
    "import requests\n",
    "import numpy as np\n",
    "import pandas as pd\n",
    "\n",
    "from tqdm import tqdm\n",
    "from datetime import date, timedelta, datetime\n",
    "from lxml.html import fragment_fromstring"
   ]
  },
  {
   "cell_type": "markdown",
   "metadata": {},
   "source": [
    "Função para conversão de valores numéricos apresentados no site:"
   ]
  },
  {
   "cell_type": "code",
   "execution_count": 2,
   "metadata": {
    "colab": {},
    "colab_type": "code",
    "id": "bK4kIxdrg1Xx"
   },
   "outputs": [],
   "source": [
    "# converte valores para numéricos (quando assim o são)\n",
    "def _convert_data(data):\n",
    "    data = data.strip()\n",
    "    try:\n",
    "        data_float = data.replace('.', '').replace(',', '.')\n",
    "        # convert 10.5% to 0.105 float value\n",
    "        if data_float.endswith('%'):\n",
    "            data_float = data_float[:-1]\n",
    "            return float(data_float) / 100\n",
    "        return float(data_float)\n",
    "    except ValueError:\n",
    "        return data"
   ]
  },
  {
   "cell_type": "markdown",
   "metadata": {},
   "source": [
    "Função para coletar os valores genéricos das empresas listadas:\n",
    "> O filtro `negociada: ON` lista somente as ações que tiveram negociação nos últimos 2 meses.  \n",
    "> Remova este filtro, e o site disponibilizará tickers que já não são mais negociados na B3 (como por exemplo: VALE5)."
   ]
  },
  {
   "cell_type": "code",
   "execution_count": 3,
   "metadata": {
    "colab": {},
    "colab_type": "code",
    "id": "hYXeNpuLhT-Y"
   },
   "outputs": [],
   "source": [
    "# carrega valores apresentados na página que lista todos os dados da empresa\n",
    "def load_generic_data():\n",
    "    post_filter = {'negociada': 'ON'}  # only traded stocks (on the last 2 months)\n",
    "    html_data = requests.post('http://www.fundamentus.com.br/resultado.php', data = post_filter)\n",
    "\n",
    "    pattern = re.compile('<table id=\"resultado\".*</table>', re.DOTALL)\n",
    "    [table] = re.findall(pattern, html_data.text)\n",
    "    page = fragment_fromstring(table)\n",
    "\n",
    "    [thead] = page.xpath('thead')\n",
    "    [tr] = thead.xpath('tr')\n",
    "    headers = [th.text_content().strip() for th in tr.xpath('th')]\n",
    "\n",
    "    [tbody] = page.xpath('tbody')\n",
    "\n",
    "    stock_info = {}\n",
    "\n",
    "    for tr in tbody.xpath('tr'):\n",
    "        data = [_convert_data(i.text_content().strip()) for i in tr.xpath('td')]\n",
    "        stock_data = dict(zip(headers, data))\n",
    "        tick = stock_data['Papel']\n",
    "        stock_info[tick] = stock_data\n",
    "\n",
    "    return stock_info"
   ]
  },
  {
   "cell_type": "code",
   "execution_count": 4,
   "metadata": {
    "colab": {},
    "colab_type": "code",
    "id": "Aot650V5hVUs"
   },
   "outputs": [],
   "source": [
    "generic_data = load_generic_data()\n",
    "generic_df = pd.DataFrame.from_dict(generic_data, orient='index')"
   ]
  },
  {
   "cell_type": "code",
   "execution_count": 5,
   "metadata": {},
   "outputs": [
    {
     "data": {
      "text/html": [
       "<div>\n",
       "<style scoped>\n",
       "    .dataframe tbody tr th:only-of-type {\n",
       "        vertical-align: middle;\n",
       "    }\n",
       "\n",
       "    .dataframe tbody tr th {\n",
       "        vertical-align: top;\n",
       "    }\n",
       "\n",
       "    .dataframe thead th {\n",
       "        text-align: right;\n",
       "    }\n",
       "</style>\n",
       "<table border=\"1\" class=\"dataframe\">\n",
       "  <thead>\n",
       "    <tr style=\"text-align: right;\">\n",
       "      <th></th>\n",
       "      <th>Cotação</th>\n",
       "      <th>P/L</th>\n",
       "      <th>P/VP</th>\n",
       "      <th>Div.Yield</th>\n",
       "      <th>P/EBIT</th>\n",
       "      <th>EV/EBIT</th>\n",
       "      <th>ROIC</th>\n",
       "      <th>ROE</th>\n",
       "    </tr>\n",
       "  </thead>\n",
       "  <tbody>\n",
       "    <tr>\n",
       "      <th>AALR3</th>\n",
       "      <td>10.64</td>\n",
       "      <td>30.48</td>\n",
       "      <td>0.98</td>\n",
       "      <td>0.0079</td>\n",
       "      <td>10.01</td>\n",
       "      <td>14.19</td>\n",
       "      <td>0.0557</td>\n",
       "      <td>0.0322</td>\n",
       "    </tr>\n",
       "    <tr>\n",
       "      <th>ABCB4</th>\n",
       "      <td>13.60</td>\n",
       "      <td>5.62</td>\n",
       "      <td>0.73</td>\n",
       "      <td>0.0772</td>\n",
       "      <td>0.00</td>\n",
       "      <td>0.00</td>\n",
       "      <td>0.0000</td>\n",
       "      <td>0.1308</td>\n",
       "    </tr>\n",
       "    <tr>\n",
       "      <th>ABEV3</th>\n",
       "      <td>12.10</td>\n",
       "      <td>16.16</td>\n",
       "      <td>3.11</td>\n",
       "      <td>0.0405</td>\n",
       "      <td>12.21</td>\n",
       "      <td>11.64</td>\n",
       "      <td>0.2061</td>\n",
       "      <td>0.1922</td>\n",
       "    </tr>\n",
       "    <tr>\n",
       "      <th>ADHM3</th>\n",
       "      <td>3.35</td>\n",
       "      <td>-4.07</td>\n",
       "      <td>-1.28</td>\n",
       "      <td>0.0000</td>\n",
       "      <td>-5.67</td>\n",
       "      <td>-5.67</td>\n",
       "      <td>5.2170</td>\n",
       "      <td>0.3147</td>\n",
       "    </tr>\n",
       "    <tr>\n",
       "      <th>AFLT3</th>\n",
       "      <td>6.85</td>\n",
       "      <td>17.11</td>\n",
       "      <td>2.02</td>\n",
       "      <td>0.0154</td>\n",
       "      <td>17.31</td>\n",
       "      <td>15.29</td>\n",
       "      <td>0.1456</td>\n",
       "      <td>0.1178</td>\n",
       "    </tr>\n",
       "  </tbody>\n",
       "</table>\n",
       "</div>"
      ],
      "text/plain": [
       "       Cotação    P/L  P/VP  Div.Yield  P/EBIT  EV/EBIT    ROIC     ROE\n",
       "AALR3    10.64  30.48  0.98     0.0079   10.01    14.19  0.0557  0.0322\n",
       "ABCB4    13.60   5.62  0.73     0.0772    0.00     0.00  0.0000  0.1308\n",
       "ABEV3    12.10  16.16  3.11     0.0405   12.21    11.64  0.2061  0.1922\n",
       "ADHM3     3.35  -4.07 -1.28     0.0000   -5.67    -5.67  5.2170  0.3147\n",
       "AFLT3     6.85  17.11  2.02     0.0154   17.31    15.29  0.1456  0.1178"
      ]
     },
     "execution_count": 5,
     "metadata": {},
     "output_type": "execute_result"
    }
   ],
   "source": [
    "# verificação da leitura (valores Div.Yield, ROIC e ROE, por exemplo, são valores percentuais)\n",
    "show_columns = ['Cotação', 'P/L', 'P/VP', 'Div.Yield', 'P/EBIT', 'EV/EBIT', 'ROIC', 'ROE']\n",
    "generic_df.sort_index().head()[show_columns]"
   ]
  },
  {
   "cell_type": "markdown",
   "metadata": {},
   "source": [
    "Função para coletar os valores específicos de cada empresa:"
   ]
  },
  {
   "cell_type": "code",
   "execution_count": 6,
   "metadata": {
    "colab": {},
    "colab_type": "code",
    "id": "2yPOP-b7PA4Y"
   },
   "outputs": [],
   "source": [
    "# carrega valores apresentados na página individual de cada empresa\n",
    "def get_specific_data(ticker):\n",
    "    html_data = requests.get(f'http://www.fundamentus.com.br/detalhes.php?papel={ticker}')\n",
    "\n",
    "    [table_section] = re.findall(re.compile('<table.*</table>', re.DOTALL), html_data.text)\n",
    "    tables = [\n",
    "        fragment_fromstring(t + '</table>')\n",
    "        for t in table_section.split('</table>')\n",
    "        if t.strip()\n",
    "    ]\n",
    "\n",
    "    data = {}\n",
    "\n",
    "    for table in tables:\n",
    "        for tr in table.xpath('tr'):\n",
    "            td_label = [\n",
    "                i.xpath('span')[-1].text_content().strip()\n",
    "                for i in tr.xpath('td')\n",
    "                if 'label' in i.attrib.get('class')\n",
    "            ]\n",
    "\n",
    "            td_data = [\n",
    "                _convert_data(i.xpath('span')[-1].text_content().strip())\n",
    "                for i in tr.xpath('td')\n",
    "                if 'data' in i.attrib.get('class')\n",
    "            ]\n",
    "\n",
    "            while td_label:\n",
    "                key = td_label.pop(0)\n",
    "                value = td_data.pop(0)\n",
    "\n",
    "                # create new name for duplicate columns\n",
    "                # avoiding data replacement\n",
    "                if key:\n",
    "                    while key in data:\n",
    "                        key += '_'\n",
    "                    data[key] = value\n",
    "\n",
    "    return data"
   ]
  },
  {
   "cell_type": "markdown",
   "metadata": {},
   "source": [
    "Coleta as informações de cada ação/ticker listada/o no site:"
   ]
  },
  {
   "cell_type": "code",
   "execution_count": 7,
   "metadata": {
    "colab": {
     "base_uri": "https://localhost:8080/",
     "height": 34
    },
    "colab_type": "code",
    "executionInfo": {
     "elapsed": 225146,
     "status": "ok",
     "timestamp": 1585196663342,
     "user": {
      "displayName": "Maicon Berndt",
      "photoUrl": "https://lh3.googleusercontent.com/a-/AOh14GhwOezQVz1iNGZwktxwr3xUKehxVDfUU1gNvHX1bLc=s64",
      "userId": "17591146645386547154"
     },
     "user_tz": 180
    },
    "id": "YC_KYAQ4kPpz",
    "outputId": "1302fd55-658a-4e67-a94a-dd31c79a158e"
   },
   "outputs": [
    {
     "name": "stderr",
     "output_type": "stream",
     "text": [
      "100%|██████████| 409/409 [05:38<00:00,  1.21it/s]\n"
     ]
    }
   ],
   "source": [
    "specific_data = {}\n",
    "\n",
    "# Pega lista das ações listadas\n",
    "tickers = generic_df.index\n",
    "# tickers = ['ITSA4', 'VALE3', 'PETR4']\n",
    "\n",
    "for ticker in tqdm(generic_df.index):\n",
    "    specific_data[ticker] = get_specific_data(ticker)\n",
    "\n",
    "specific_df = pd.DataFrame.from_dict(specific_data, orient='index')"
   ]
  },
  {
   "cell_type": "code",
   "execution_count": 8,
   "metadata": {},
   "outputs": [
    {
     "data": {
      "text/html": [
       "<div>\n",
       "<style scoped>\n",
       "    .dataframe tbody tr th:only-of-type {\n",
       "        vertical-align: middle;\n",
       "    }\n",
       "\n",
       "    .dataframe tbody tr th {\n",
       "        vertical-align: top;\n",
       "    }\n",
       "\n",
       "    .dataframe thead th {\n",
       "        text-align: right;\n",
       "    }\n",
       "</style>\n",
       "<table border=\"1\" class=\"dataframe\">\n",
       "  <thead>\n",
       "    <tr style=\"text-align: right;\">\n",
       "      <th></th>\n",
       "      <th>Cotação</th>\n",
       "      <th>P/L</th>\n",
       "      <th>P/VP</th>\n",
       "      <th>Div. Yield</th>\n",
       "      <th>P/EBIT</th>\n",
       "      <th>EV / EBIT</th>\n",
       "      <th>ROIC</th>\n",
       "      <th>ROE</th>\n",
       "    </tr>\n",
       "  </thead>\n",
       "  <tbody>\n",
       "    <tr>\n",
       "      <th>AALR3</th>\n",
       "      <td>10.64</td>\n",
       "      <td>30.48</td>\n",
       "      <td>0.98</td>\n",
       "      <td>0.008</td>\n",
       "      <td>10.01</td>\n",
       "      <td>14.19</td>\n",
       "      <td>0.056</td>\n",
       "      <td>0.032</td>\n",
       "    </tr>\n",
       "    <tr>\n",
       "      <th>ABCB4</th>\n",
       "      <td>13.60</td>\n",
       "      <td>5.62</td>\n",
       "      <td>0.73</td>\n",
       "      <td>0.077</td>\n",
       "      <td>-</td>\n",
       "      <td>-</td>\n",
       "      <td>-</td>\n",
       "      <td>0.131</td>\n",
       "    </tr>\n",
       "    <tr>\n",
       "      <th>ABEV3</th>\n",
       "      <td>12.10</td>\n",
       "      <td>16.16</td>\n",
       "      <td>3.11</td>\n",
       "      <td>0.041</td>\n",
       "      <td>12.21</td>\n",
       "      <td>11.64</td>\n",
       "      <td>0.206</td>\n",
       "      <td>0.192</td>\n",
       "    </tr>\n",
       "    <tr>\n",
       "      <th>ADHM3</th>\n",
       "      <td>3.35</td>\n",
       "      <td>-4.07</td>\n",
       "      <td>-1.28</td>\n",
       "      <td>0.000</td>\n",
       "      <td>-5.67</td>\n",
       "      <td>-5.67</td>\n",
       "      <td>5.217</td>\n",
       "      <td>0.315</td>\n",
       "    </tr>\n",
       "    <tr>\n",
       "      <th>AFLT3</th>\n",
       "      <td>6.85</td>\n",
       "      <td>17.11</td>\n",
       "      <td>2.02</td>\n",
       "      <td>0.015</td>\n",
       "      <td>17.31</td>\n",
       "      <td>15.29</td>\n",
       "      <td>0.146</td>\n",
       "      <td>0.118</td>\n",
       "    </tr>\n",
       "  </tbody>\n",
       "</table>\n",
       "</div>"
      ],
      "text/plain": [
       "       Cotação    P/L  P/VP  Div. Yield P/EBIT EV / EBIT   ROIC    ROE\n",
       "AALR3    10.64  30.48  0.98       0.008  10.01     14.19  0.056  0.032\n",
       "ABCB4    13.60   5.62  0.73       0.077      -         -      -  0.131\n",
       "ABEV3    12.10  16.16  3.11       0.041  12.21     11.64  0.206  0.192\n",
       "ADHM3     3.35  -4.07 -1.28       0.000  -5.67     -5.67  5.217  0.315\n",
       "AFLT3     6.85  17.11  2.02       0.015  17.31     15.29  0.146  0.118"
      ]
     },
     "execution_count": 8,
     "metadata": {},
     "output_type": "execute_result"
    }
   ],
   "source": [
    "# verificação da leitura (valores Div. Yield, ROIC e ROE, por exemplo, são valores percentuais)\n",
    "show_columns = ['Cotação', 'P/L', 'P/VP', 'Div. Yield', 'P/EBIT', 'EV / EBIT', 'ROIC', 'ROE']\n",
    "specific_df.sort_index().head()[show_columns]"
   ]
  },
  {
   "cell_type": "markdown",
   "metadata": {},
   "source": [
    "Lista de colunas disponíveis:\n",
    "> É possível ver na lista que há colunas 'duplicadas' referente `Dados demonstrativos de resultados`, sendo as primeiras colunas referente dados de `12 meses` (*Receita Líquida*, *EBIT* e *Lucro Líquido*) e as outras referente dados de `3 meses` (*Receita Líquida_*, *EBIT_* e *Lucro Líquido_* - com '_' no final)"
   ]
  },
  {
   "cell_type": "code",
   "execution_count": 9,
   "metadata": {},
   "outputs": [
    {
     "data": {
      "text/plain": [
       "Index(['Papel', 'Cotação', 'Tipo', 'Data últ cot', 'Empresa', 'Min 52 sem',\n",
       "       'Setor', 'Max 52 sem', 'Subsetor', 'Vol $ méd (2m)', 'Valor de mercado',\n",
       "       'Últ balanço processado', 'Valor da firma', 'Nro. Ações', 'Dia', 'P/L',\n",
       "       'LPA', 'Mês', 'P/VP', 'VPA', '30 dias', 'P/EBIT', 'Marg. Bruta',\n",
       "       '12 meses', 'PSR', 'Marg. EBIT', '2020', 'P/Ativos', 'Marg. Líquida',\n",
       "       '2019', 'P/Cap. Giro', 'EBIT / Ativo', '2018', 'P/Ativ Circ Liq',\n",
       "       'ROIC', '2017', 'Div. Yield', 'ROE', '2016', 'EV / EBITDA',\n",
       "       'Liquidez Corr', '2015', 'EV / EBIT', 'Div Br/ Patrim',\n",
       "       'Cres. Rec (5a)', 'Giro Ativos', 'Ativo', 'Dív. Bruta',\n",
       "       'Disponibilidades', 'Dív. Líquida', 'Ativo Circulante', 'Patrim. Líq',\n",
       "       'Receita Líquida', 'Receita Líquida_', 'EBIT', 'EBIT_', 'Lucro Líquido',\n",
       "       'Lucro Líquido_', 'Depósitos', 'Cart. de Crédito', 'Result Int Financ',\n",
       "       'Result Int Financ_', 'Rec Serviços', 'Rec Serviços_'],\n",
       "      dtype='object')"
      ]
     },
     "execution_count": 9,
     "metadata": {},
     "output_type": "execute_result"
    }
   ],
   "source": [
    "specific_df.columns"
   ]
  },
  {
   "cell_type": "markdown",
   "metadata": {},
   "source": [
    "Limpa dados `-` dos dados:"
   ]
  },
  {
   "cell_type": "code",
   "execution_count": 10,
   "metadata": {},
   "outputs": [],
   "source": [
    "specific_df = specific_df.replace('-', np.nan)"
   ]
  },
  {
   "cell_type": "markdown",
   "metadata": {},
   "source": [
    "Exporta dados para arquivo (ordenados):"
   ]
  },
  {
   "cell_type": "code",
   "execution_count": 18,
   "metadata": {},
   "outputs": [],
   "source": [
    "sorted_df = specific_df\n",
    "\n",
    "# ordena por nome da colunas (axis=y)\n",
    "# sorted_df = specific_df[sorted(specific_df.columns)]\n",
    "\n",
    "# ordena por nome do ativo (axis=x)\n",
    "sorted_df = sorted_df.sort_index()\n",
    "\n",
    "# exporta para arquivo formato csv\n",
    "sorted_df.to_csv('fundamentus.csv')"
   ]
  }
 ],
 "metadata": {
  "colab": {
   "authorship_tag": "ABX9TyMwWrJPwqib5Rhcf3MZ181a",
   "collapsed_sections": [],
   "name": "stocks - fundamentus.ipynb",
   "provenance": []
  },
  "kernelspec": {
   "display_name": "Python 3",
   "language": "python",
   "name": "python3"
  },
  "language_info": {
   "codemirror_mode": {
    "name": "ipython",
    "version": 3
   },
   "file_extension": ".py",
   "mimetype": "text/x-python",
   "name": "python",
   "nbconvert_exporter": "python",
   "pygments_lexer": "ipython3",
   "version": "3.7.3"
  }
 },
 "nbformat": 4,
 "nbformat_minor": 4
}
