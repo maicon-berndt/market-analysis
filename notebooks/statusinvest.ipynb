{
 "cells": [
  {
   "cell_type": "markdown",
   "metadata": {},
   "source": [
    "## Status Invest\n",
    "\n",
    "This script reads all stocks data available in https://statusinvest.com.br/ using scrapers.\\\n",
    "Giving you the possibility to filter out only the relevant stocks as desired."
   ]
  },
  {
   "cell_type": "code",
   "execution_count": null,
   "metadata": {},
   "outputs": [],
   "source": [
    "import numpy\n",
    "import os\n",
    "import pandas\n",
    "import sys\n",
    "\n",
    "from sklearn.linear_model import LinearRegression  # scikit-learn\n",
    "from tqdm import tqdm\n",
    "\n",
    "module_path = os.path.abspath(os.path.join('..'))\n",
    "if module_path not in sys.path:\n",
    "    sys.path.append(module_path)\n",
    "\n",
    "from libs.scrapers.statusinvest import (\n",
    "    StockListScraper,\n",
    "    StockExtraInfosScraper,\n",
    "    StockHistIndicatorsScraper,\n",
    "    StockHistEarningsScraper,\n",
    "    StockHistPayoutsScraper,\n",
    "    StockHistRevenueScraper,\n",
    "    StockHistMarginsScraper,\n",
    "    StockHistActivesAndPassivesScraper,\n",
    ")"
   ]
  },
  {
   "cell_type": "markdown",
   "metadata": {},
   "source": [
    "### Reading List of Stocks (plus general stock data)"
   ]
  },
  {
   "cell_type": "code",
   "execution_count": 2,
   "metadata": {},
   "outputs": [
    {
     "name": "stdout",
     "output_type": "stream",
     "text": [
      "TICKER  PRECO    DY   P/L  P/VP  P/ATIVOS  MARGEM BRUTA  MARGEM EBIT  MARG. LIQUIDA  P/EBIT\n",
      " VALE3  66.01  9.21  6.31  1.58      0.67         40.12        31.07          23.03    4.67\n",
      " PETR4  42.45 17.26  4.04  1.43      0.54         51.08        38.69          25.53    2.67\n",
      " ITUB4  35.68  3.52 10.99  1.90      0.14         30.03         9.92           8.30    9.20\n",
      " BBDC4  13.97  7.97 10.74  0.89      0.08         30.94         3.95           6.18   16.82\n",
      " BBAS3  59.30  7.72  5.10  1.03      0.08         32.66        15.94          12.40    3.97\n",
      "--- Total stock tickers in the list: 620 ---\n"
     ]
    }
   ],
   "source": [
    "stocks_general_data_df = StockListScraper().dataframe_format\n",
    "\n",
    "# show most liquid stocks (it also shows only the first X columns)\n",
    "stocks_general_data_df.sort_values(\"LIQUIDEZ MEDIA DIARIA\", ascending=False, inplace=True)\n",
    "print(stocks_general_data_df[stocks_general_data_df.columns[0:10]][0:5].to_string(index=False))\n",
    "print(f\"--- Total stock tickers in the list: {stocks_general_data_df.shape[0]} ---\")"
   ]
  },
  {
   "cell_type": "markdown",
   "metadata": {},
   "source": [
    "### Filter out stocks"
   ]
  },
  {
   "cell_type": "code",
   "execution_count": 3,
   "metadata": {},
   "outputs": [
    {
     "name": "stdout",
     "output_type": "stream",
     "text": [
      "--- Filtered stock tickers in the list: 216 ---\n"
     ]
    }
   ],
   "source": [
    "# by trading liquidity\n",
    "stocks_general_data_df = stocks_general_data_df[stocks_general_data_df[\"LIQUIDEZ MEDIA DIARIA\"] >= 1_000_000]\n",
    "\n",
    "# filter out only the most liquid stock from each company\n",
    "stocks_general_data_df[\"PREFIX\"] = stocks_general_data_df[\"TICKER\"].str.upper().str[:4]\n",
    "stocks_general_data_df.sort_values(\"LIQUIDEZ MEDIA DIARIA\", ascending=False, inplace=True)\n",
    "stocks_general_data_df.drop_duplicates(\"PREFIX\", keep=\"first\", inplace=True)\n",
    "stocks_general_data_df.drop(\"PREFIX\", axis=1, inplace=True)\n",
    "\n",
    "# show stock tickers count after filter applied\n",
    "print(f\"--- Filtered stock tickers in the list: {stocks_general_data_df.shape[0]} ---\")"
   ]
  },
  {
   "cell_type": "code",
   "execution_count": 4,
   "metadata": {},
   "outputs": [
    {
     "name": "stdout",
     "output_type": "stream",
     "text": [
      "--- Most Liquid stock in the list: VALE3 ---\n"
     ]
    }
   ],
   "source": [
    "stock_ticker = stocks_general_data_df.sort_values(\"LIQUIDEZ MEDIA DIARIA\", ascending=False).index[0]\n",
    "\n",
    "# show most liquid stock in the list\n",
    "print(f\"--- Most Liquid stock in the list: {stock_ticker} ---\")"
   ]
  },
  {
   "cell_type": "markdown",
   "metadata": {},
   "source": [
    "### Get Stocks extra infos"
   ]
  },
  {
   "cell_type": "code",
   "execution_count": 5,
   "metadata": {},
   "outputs": [
    {
     "name": "stderr",
     "output_type": "stream",
     "text": [
      "100%|██████████| 216/216 [04:38<00:00,  1.29s/it]"
     ]
    },
    {
     "name": "stdout",
     "output_type": "stream",
     "text": [
      "      Vol Histórica Tag Along Tickers Opções      Segmento Free Float\n",
      "VALE3     26.432432    100.0%          992.0  Novo Mercado     98.01%\n",
      "PETR4     30.091372    100.0%         1383.0       Nível 2     63.39%\n",
      "ITUB4     21.020788     80.0%          456.0       Nível 1     52.89%\n",
      "BBDC4     31.188926     80.0%          576.0       Nível 1     62.46%\n",
      "BBAS3     22.589095    100.0%          688.0  Novo Mercado     49.58%\n",
      "...             ...       ...            ...           ...        ...\n",
      "VIVR3     58.741078    100.0%            0.0  Novo Mercado    550.71%\n",
      "APER3      47.71531    100.0%            0.0  Novo Mercado    133.98%\n",
      "ELMD3     45.947894    100.0%            0.0  Novo Mercado     37.63%\n",
      "ENJU3     63.279128    100.0%            1.0  Novo Mercado     74.82%\n",
      "LAND3     32.365891    100.0%            0.0  Novo Mercado     31.81%\n",
      "\n",
      "[216 rows x 5 columns]\n"
     ]
    },
    {
     "name": "stderr",
     "output_type": "stream",
     "text": [
      "\n"
     ]
    }
   ],
   "source": [
    "extra_infos_df = None\n",
    "\n",
    "for stock_ticker in tqdm(stocks_general_data_df.index):\n",
    "    ei_df = StockExtraInfosScraper(stock_ticker).dataframe_format\n",
    "    ei_df.columns = [stock_ticker]\n",
    "    ei_df = ei_df.T\n",
    "    extra_infos_df = pandas.concat([extra_infos_df, ei_df])\n",
    "\n",
    "#show sample of the retrieved data\n",
    "print(extra_infos_df)"
   ]
  },
  {
   "cell_type": "code",
   "execution_count": 6,
   "metadata": {},
   "outputs": [
    {
     "name": "stdout",
     "output_type": "stream",
     "text": [
      "--- Stock tickers in the list: 216 ---\n"
     ]
    }
   ],
   "source": [
    "# Join data from both dataframes\n",
    "stocks_general_data_df = stocks_general_data_df.join(extra_infos_df)\n",
    "\n",
    "# show stock tickers count after filter applied\n",
    "print(f\"--- Stock tickers in the list: {stocks_general_data_df.shape[0]} ---\")"
   ]
  },
  {
   "cell_type": "markdown",
   "metadata": {},
   "source": [
    "### Get Historical data"
   ]
  },
  {
   "cell_type": "code",
   "execution_count": 7,
   "metadata": {},
   "outputs": [],
   "source": [
    "# Concatenate all historical data available in the website (API)\n",
    "def get_historical_data(stock_ticker: str) -> pandas.DataFrame:\n",
    "    hist_df = None\n",
    "\n",
    "    # Infos: dy, p_l, p_vp, p_ebita, p_ebit, p_sr, p_ativo, p_capitlgiro,\n",
    "    #        p_ativocirculante, ev_ebitda, ev_ebit, lpa, vpa, peg_Ratio,\n",
    "    #        dividaliquida_patrimonioliquido, dividaliquida_ebitda,\n",
    "    #        dividaliquida_ebit, patrimonio_ativo, passivo_ativo,\n",
    "    #        liquidezcorrente, margembruta, margemebitda, margemebit,\n",
    "    #        margemliquida, roe, roa, roic, giro_ativos, receitas_cagr5,\n",
    "    #        lucros_cagr5\n",
    "    hist_inds = StockHistIndicatorsScraper(stock_ticker).dataframe_format\n",
    "    hist_df = pandas.concat([hist_df, hist_inds])\n",
    "\n",
    "    # Infos: earnings\n",
    "    # hist_earnings = StockHistEarningsScraper(stock_ticker).dataframe_format\n",
    "    # hist_df = pandas.concat([hist_df, hist_earnings])\n",
    "\n",
    "    # Infos: payout\n",
    "    # hist_payouts = StockHistPayoutsScraper(stock_ticker).dataframe_format\n",
    "    # hist_df = pandas.concat([hist_df, hist_payouts])\n",
    "\n",
    "    # Infos: receitaLiquida, despesas, lucroLiquido\n",
    "    # hist_revenue = StockHistRevenueScraper(stock_ticker).dataframe_format\n",
    "    # hist_df = pandas.concat([hist_df, hist_revenue])\n",
    "\n",
    "    # Infos: margemBruta, margemEbitda, margemEbit, margemLiquida\n",
    "    # hist_margins = StockHistMarginsScraper(stock_ticker).dataframe_format\n",
    "    # hist_df = pandas.concat([hist_df, hist_margins])\n",
    "\n",
    "    # Infos: ativoTotal, ativoCirculante, ativoNaoCirculante,\n",
    "    #        passivoTotal, passivoCirculante, passivoNaoCirculante,\n",
    "    #        patrimonioLiquido\n",
    "    # hist_actives_passives = StockHistActivesAndPassivesScraper(stock_ticker).dataframe_format\n",
    "    # hist_df = pandas.concat([hist_df, hist_actives_passives])\n",
    "\n",
    "    # sort columns\n",
    "    hist_df = hist_df[sorted(hist_df.columns)]\n",
    "\n",
    "    # return hisotical indicators\n",
    "    return hist_df"
   ]
  },
  {
   "cell_type": "code",
   "execution_count": 8,
   "metadata": {},
   "outputs": [],
   "source": [
    "# Linear Regression\n",
    "def get_linear_regression_trend(series: pandas.Series) -> float:\n",
    "    # reshape\n",
    "    x = numpy.array(series.index).reshape((-1, 1))\n",
    "    y = numpy.array(series.values).reshape((-1, 1))\n",
    "\n",
    "    # calculate linear regression slope\n",
    "    model = LinearRegression()\n",
    "    model.fit(x, y)\n",
    "\n",
    "    # LR\n",
    "    # model.score(x, y)  # R\n",
    "    # model.intercept_[0]  # Intercept\n",
    "    # model.coef_[0][0]  # Slope\n",
    "\n",
    "    # predict\n",
    "    last_year = series.index.max()\n",
    "    predict_x = numpy.array([last_year, last_year + 1]).reshape((-1, 1))\n",
    "    predict_result = model.predict(predict_x)\n",
    "\n",
    "    # trend in %\n",
    "    return predict_result[1] / predict_result[0] - 1"
   ]
  },
  {
   "cell_type": "code",
   "execution_count": 9,
   "metadata": {},
   "outputs": [
    {
     "name": "stderr",
     "output_type": "stream",
     "text": [
      "100%|██████████| 216/216 [03:11<00:00,  1.13it/s]\n"
     ]
    }
   ],
   "source": [
    "for stock_ticker in tqdm(stocks_general_data_df.index):\n",
    "    hd_df = get_historical_data(stock_ticker).T\n",
    "\n",
    "    # get positives years percentage and last negative year\n",
    "    for pos_neg_years in [\n",
    "        \"margembruta\", \"margemliquida\", \"lpa\"\n",
    "    ]:\n",
    "        pos_neg_years_df = hd_df[pos_neg_years].dropna() if pos_neg_years in hd_df else []\n",
    "        if len(pos_neg_years_df) > 0:\n",
    "            # % yers with positive values\n",
    "            stocks_general_data_df.loc[\n",
    "                stocks_general_data_df.index == stock_ticker,\n",
    "                f\"{pos_neg_years}_pos_years\"\n",
    "            ] = pos_neg_years_df.ge(0).sum() / len(pos_neg_years_df)\n",
    "            # last negative year\n",
    "            neg_years = pos_neg_years_df.loc[pos_neg_years_df.lt(0)]\n",
    "            if len(neg_years) > 0:\n",
    "                stocks_general_data_df.loc[\n",
    "                    stocks_general_data_df.index == stock_ticker,\n",
    "                    f\"{pos_neg_years}_last_negative_year\"\n",
    "                ] = neg_years.index[-1]\n",
    "\n",
    "    # get trend info\n",
    "    for hist_trend_ind in [\n",
    "        \"margembruta\", \"margemliquida\", \"lpa\", \"vpa\",\n",
    "        \"dividaliquida_patrimonioliquido\", \"dividaliquida_ebit\",\n",
    "        \"passivo_ativo\", \"liquidezcorrente\"\n",
    "    ]:\n",
    "        hist_trend_df = hd_df[hist_trend_ind].dropna() if hist_trend_ind in hd_df else []\n",
    "        if len(hist_trend_df) > 0:\n",
    "            # trend\n",
    "            stocks_general_data_df.loc[\n",
    "                stocks_general_data_df.index == stock_ticker,\n",
    "                f\"{hist_trend_ind}_trend\"\n",
    "            ] = get_linear_regression_trend(hist_trend_df)"
   ]
  },
  {
   "cell_type": "markdown",
   "metadata": {},
   "source": [
    "### Output result into a file"
   ]
  },
  {
   "cell_type": "code",
   "execution_count": 10,
   "metadata": {},
   "outputs": [],
   "source": [
    "stocks_general_data_df.to_csv(\"../outputs/statusinvest.csv\", sep=\";\", index=False)"
   ]
  }
 ],
 "metadata": {
  "colab": {
   "authorship_tag": "ABX9TyMwWrJPwqib5Rhcf3MZ181a",
   "collapsed_sections": [],
   "name": "stocks - fundamentus.ipynb",
   "provenance": []
  },
  "kernelspec": {
   "display_name": "Python 3",
   "language": "python",
   "name": "python3"
  },
  "language_info": {
   "codemirror_mode": {
    "name": "ipython",
    "version": 3
   },
   "file_extension": ".py",
   "mimetype": "text/x-python",
   "name": "python",
   "nbconvert_exporter": "python",
   "pygments_lexer": "ipython3",
   "version": "3.12.2"
  }
 },
 "nbformat": 4,
 "nbformat_minor": 4
}
