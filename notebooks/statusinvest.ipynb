{
 "cells": [
  {
   "cell_type": "markdown",
   "metadata": {},
   "source": [
    "## Status Invest\n",
    "\n",
    "This script reads all stocks data available in https://statusinvest.com.br/ using scrapers.\\\n",
    "Giving you the possibility to filter out only the relevant stocks as desired."
   ]
  },
  {
   "cell_type": "code",
   "execution_count": 1,
   "metadata": {},
   "outputs": [],
   "source": [
    "import os\n",
    "import sys\n",
    "\n",
    "module_path = os.path.abspath(os.path.join('..'))\n",
    "if module_path not in sys.path:\n",
    "    sys.path.append(module_path)\n",
    "\n",
    "from libs.scrapers.statusinvest import (\n",
    "    StockListScraper,\n",
    "    StockExtraInfosScraper,\n",
    "    StockHistIndicatorsScraper,\n",
    "    StockHistEarningsScraper,\n",
    "    StockHistPayoutsScraper,\n",
    "    StockHistRevenueScraper,\n",
    "    StockHistMarginsScraper,\n",
    "    StockHistActivesAndPassivesScraper,\n",
    ")"
   ]
  },
  {
   "cell_type": "markdown",
   "metadata": {},
   "source": [
    "### Reading List of Stocks (plus general stock data)"
   ]
  },
  {
   "cell_type": "code",
   "execution_count": 2,
   "metadata": {},
   "outputs": [
    {
     "name": "stdout",
     "output_type": "stream",
     "text": [
      "TICKER  PRECO    DY   P/L  P/VP  P/ATIVOS  MARGEM BRUTA  MARGEM EBIT  MARG. LIQUIDA  P/EBIT\n",
      " VALE3  69.50  8.75  6.64  1.66      0.71         40.12        31.07          23.03    4.92\n",
      " PETR4  39.96 18.31  3.81  1.35      0.51         51.08        38.69          25.53    2.51\n",
      " ITUB4  32.81  3.83 10.10  1.75      0.13         30.03         9.92           8.30    8.46\n",
      " BBDC4  15.52  7.17 11.93  0.99      0.09         30.94         3.95           6.18   18.68\n",
      " BBAS3  56.97  8.03  4.90  0.99      0.07         32.66        15.94          12.40    3.81\n",
      "--- Total stock tickers in the list: 620 ---\n"
     ]
    }
   ],
   "source": [
    "stocks_general_data_df = StockListScraper().dataframe_format\n",
    "\n",
    "# show most liquid stocks (it also shows only the first X columns)\n",
    "stocks_general_data_df.sort_values(\"LIQUIDEZ MEDIA DIARIA\", ascending=False, inplace=True)\n",
    "print(stocks_general_data_df[stocks_general_data_df.columns[0:10]][0:5].to_string(index=False))\n",
    "print(f\"--- Total stock tickers in the list: {stocks_general_data_df.shape[0]} ---\")"
   ]
  },
  {
   "cell_type": "markdown",
   "metadata": {},
   "source": [
    "### Filter out stocks"
   ]
  },
  {
   "cell_type": "code",
   "execution_count": 3,
   "metadata": {},
   "outputs": [
    {
     "name": "stdout",
     "output_type": "stream",
     "text": [
      "--- Filtered stock tickers in the list: 219 ---\n"
     ]
    }
   ],
   "source": [
    "# by trading liquidity\n",
    "stocks_general_data_df = stocks_general_data_df[stocks_general_data_df[\"LIQUIDEZ MEDIA DIARIA\"] >= 1_000_000]\n",
    "\n",
    "# filter out only the most liquid stock from each company\n",
    "stocks_general_data_df[\"PREFIX\"] = stocks_general_data_df[\"TICKER\"].str.upper().str[:4]\n",
    "stocks_general_data_df.sort_values(\"LIQUIDEZ MEDIA DIARIA\", ascending=False, inplace=True)\n",
    "stocks_general_data_df.drop_duplicates(\"PREFIX\", keep=\"first\", inplace=True)\n",
    "stocks_general_data_df.drop(\"PREFIX\", axis=1, inplace=True)\n",
    "\n",
    "# show stock tickers count after filter applied\n",
    "print(f\"--- Filtered stock tickers in the list: {stocks_general_data_df.shape[0]} ---\")"
   ]
  },
  {
   "cell_type": "markdown",
   "metadata": {},
   "source": [
    "### Get Historical data from the most liquid stock in the list"
   ]
  },
  {
   "cell_type": "code",
   "execution_count": 4,
   "metadata": {},
   "outputs": [
    {
     "name": "stdout",
     "output_type": "stream",
     "text": [
      "--- Most Liquid stock in the list: VALE3 ---\n"
     ]
    }
   ],
   "source": [
    "stock_ticker = stocks_general_data_df.sort_values(\"LIQUIDEZ MEDIA DIARIA\", ascending=False).index[0]\n",
    "\n",
    "# show most liquid stock in the list\n",
    "print(f\"--- Most Liquid stock in the list: {stock_ticker} ---\")"
   ]
  },
  {
   "cell_type": "code",
   "execution_count": 5,
   "metadata": {},
   "outputs": [
    {
     "name": "stdout",
     "output_type": "stream",
     "text": [
      "                           0\n",
      "Vol Histórica      26.681932\n",
      "Tag Along             100.0%\n",
      "Tickers Opções         922.0\n",
      "Segmento        Novo Mercado\n",
      "Free Float            98.01%\n"
     ]
    }
   ],
   "source": [
    "extra_infos = StockExtraInfosScraper(stock_ticker).dataframe_format\n",
    "\n",
    "#show sample of the retrieved data\n",
    "print(extra_infos)"
   ]
  },
  {
   "cell_type": "code",
   "execution_count": 6,
   "metadata": {},
   "outputs": [
    {
     "name": "stdout",
     "output_type": "stream",
     "text": [
      "                                  2008   2009   2010     2011\n",
      "dy                                 NaN    NaN    NaN   7.3140\n",
      "p_l                                NaN    NaN    NaN   5.5957\n",
      "p_vp                               NaN    NaN    NaN   1.4752\n",
      "p_ebita                            NaN    NaN    NaN      NaN\n",
      "p_ebit                             NaN    NaN    NaN   4.0409\n",
      "p_sr                               NaN    NaN    NaN   2.1049\n",
      "p_ativo                            NaN    NaN    NaN   0.8928\n",
      "p_capitlgiro                       NaN    NaN    NaN  10.8744\n",
      "p_ativocirculante                  NaN    NaN    NaN  -1.0748\n",
      "ev_ebitda                          NaN    NaN    NaN      NaN\n",
      "ev_ebit                            NaN    NaN    NaN   4.7886\n",
      "lpa                                NaN    NaN    NaN   7.0501\n",
      "vpa                                NaN    NaN    NaN  26.7413\n",
      "peg_Ratio                          NaN    NaN    NaN      NaN\n",
      "dividaliquida_patrimonioliquido   0.22   0.30   0.27   0.2700\n",
      "dividaliquida_ebitda               NaN    NaN    NaN      NaN\n",
      "dividaliquida_ebit                0.79   2.16   0.75   0.7500\n",
      "patrimonio_ativo                  0.52   0.54   0.52   0.5900\n",
      "passivo_ativo                     0.46   0.44   0.46   0.3900\n",
      "liquidezcorrente                  2.93   2.10   1.81   2.0300\n",
      "margembruta                      54.42  42.78  59.44  59.1900\n",
      "margemebitda                       NaN    NaN    NaN      NaN\n",
      "margemebit                       37.16  27.56  48.59  52.0900\n",
      "margemliquida                    30.17  21.31  36.13  37.6200\n",
      "roe                              22.09  10.79  26.82  26.3600\n",
      "roa                              11.46   5.82  14.01  15.6400\n",
      "roic                             17.46   5.91  20.86  22.7000\n",
      "giro_ativos                       0.38   0.27   0.39   0.4200\n",
      "receitas_cagr5                     NaN    NaN    NaN      NaN\n",
      "lucros_cagr5                       NaN    NaN    NaN      NaN\n"
     ]
    }
   ],
   "source": [
    "hist_inds = StockHistIndicatorsScraper(stock_ticker).dataframe_format\n",
    "hist_inds = hist_inds[sorted(hist_inds.columns)]\n",
    "\n",
    "#show sample of the retrieved data\n",
    "print(hist_inds[hist_inds.columns[0:4]])"
   ]
  },
  {
   "cell_type": "code",
   "execution_count": 7,
   "metadata": {},
   "outputs": [
    {
     "name": "stdout",
     "output_type": "stream",
     "text": [
      "              2007      2008      2009      2010\n",
      "earnings  0.394109  1.089846  1.016622  0.984241\n"
     ]
    }
   ],
   "source": [
    "hist_earnings = StockHistEarningsScraper(stock_ticker).dataframe_format\n",
    "hist_earnings = hist_earnings[sorted(hist_earnings.columns)]\n",
    "\n",
    "#show sample of the retrieved data\n",
    "print(hist_earnings[hist_earnings.columns[0:4]])"
   ]
  },
  {
   "cell_type": "code",
   "execution_count": 8,
   "metadata": {},
   "outputs": [
    {
     "name": "stdout",
     "output_type": "stream",
     "text": [
      "        2008  2009  2010       2011\n",
      "payout   0.0   0.0   0.0  39.549275\n"
     ]
    }
   ],
   "source": [
    "hist_payouts = StockHistPayoutsScraper(stock_ticker).dataframe_format\n",
    "hist_payouts = hist_payouts[sorted(hist_payouts.columns)]\n",
    "\n",
    "#show sample of the retrieved data\n",
    "print(hist_payouts[hist_payouts.columns[0:4]])"
   ]
  },
  {
   "cell_type": "code",
   "execution_count": 9,
   "metadata": {},
   "outputs": [
    {
     "name": "stdout",
     "output_type": "stream",
     "text": [
      "                        2008          2009          2010          2011\n",
      "receitaLiquida  7.054099e+10  4.849657e+10  8.322501e+10  1.005557e+11\n",
      "despesas       -3.215562e+10 -2.775039e+10 -3.375607e+10 -4.103345e+10\n",
      "lucroLiquido    2.127963e+10  1.033695e+10  3.007005e+10  3.782572e+10\n"
     ]
    }
   ],
   "source": [
    "hist_revenue = StockHistRevenueScraper(stock_ticker).dataframe_format\n",
    "hist_revenue = hist_revenue[sorted(hist_revenue.columns)]\n",
    "\n",
    "#show sample of the retrieved data\n",
    "print(hist_revenue[hist_revenue.columns[0:4]])"
   ]
  },
  {
   "cell_type": "code",
   "execution_count": 10,
   "metadata": {},
   "outputs": [
    {
     "name": "stdout",
     "output_type": "stream",
     "text": [
      "                2008   2009   2010   2011\n",
      "margemBruta    54.42  42.78  59.44  59.19\n",
      "margemEbitda    0.00   0.00   0.00   0.00\n",
      "margemEbit     37.16  27.56  48.59  52.09\n",
      "margemLiquida  30.78  21.66  36.55  37.21\n"
     ]
    }
   ],
   "source": [
    "hist_margins = StockHistMarginsScraper(stock_ticker).dataframe_format\n",
    "hist_margins = hist_margins[sorted(hist_margins.columns)]\n",
    "\n",
    "#show sample of the retrieved data\n",
    "print(hist_margins[hist_margins.columns[0:4]])"
   ]
  },
  {
   "cell_type": "code",
   "execution_count": 11,
   "metadata": {},
   "outputs": [
    {
     "name": "stdout",
     "output_type": "stream",
     "text": [
      "                              2008          2009          2010          2011\n",
      "ativoTotal            1.856155e+11  1.777382e+11  2.146621e+11  2.417831e+11\n",
      "ativoCirculante       5.475374e+10  3.676495e+10  5.426873e+10  4.209522e+10\n",
      "ativoNaoCirculante    1.308617e+11  1.409732e+11  1.603943e+11  1.996879e+11\n",
      "passivoTotal          8.461464e+10  7.744296e+10  9.833525e+10  9.509274e+10\n",
      "passivoCirculante     1.869604e+10  1.747328e+10  2.996756e+10  2.068676e+10\n",
      "passivoNaoCirculante  0.000000e+00  0.000000e+00  6.695108e+10  7.286767e+10\n",
      "patrimonioLiquido     1.010008e+11  1.002952e+11  1.163269e+11  1.466904e+11\n"
     ]
    }
   ],
   "source": [
    "hist_actives_passives = StockHistActivesAndPassivesScraper(stock_ticker).dataframe_format\n",
    "hist_actives_passives = hist_actives_passives[sorted(hist_actives_passives.columns)]\n",
    "\n",
    "#show sample of the retrieved data\n",
    "print(hist_actives_passives[hist_actives_passives.columns[0:4]])"
   ]
  },
  {
   "cell_type": "markdown",
   "metadata": {},
   "source": [
    "### Output result into a file"
   ]
  },
  {
   "cell_type": "code",
   "execution_count": 12,
   "metadata": {},
   "outputs": [],
   "source": [
    "stocks_general_data_df.to_csv(\"../outputs/statusinvest.csv\", sep=\";\", index=False)"
   ]
  }
 ],
 "metadata": {
  "colab": {
   "authorship_tag": "ABX9TyMwWrJPwqib5Rhcf3MZ181a",
   "collapsed_sections": [],
   "name": "stocks - fundamentus.ipynb",
   "provenance": []
  },
  "kernelspec": {
   "display_name": "Python 3",
   "language": "python",
   "name": "python3"
  },
  "language_info": {
   "codemirror_mode": {
    "name": "ipython",
    "version": 3
   },
   "file_extension": ".py",
   "mimetype": "text/x-python",
   "name": "python",
   "nbconvert_exporter": "python",
   "pygments_lexer": "ipython3",
   "version": "3.12.1"
  }
 },
 "nbformat": 4,
 "nbformat_minor": 4
}
