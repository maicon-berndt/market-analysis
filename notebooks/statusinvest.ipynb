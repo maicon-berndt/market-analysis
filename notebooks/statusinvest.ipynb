{
 "cells": [
  {
   "cell_type": "markdown",
   "metadata": {},
   "source": [
    "## Status Invest\n",
    "\n",
    "This script reads all stocks data available in https://statusinvest.com.br/ using scrapers.\\\n",
    "Giving you the possibility to filter out only the relevant stocks as desired."
   ]
  },
  {
   "cell_type": "code",
   "execution_count": 18,
   "metadata": {},
   "outputs": [],
   "source": [
    "import os\n",
    "import sys\n",
    "\n",
    "module_path = os.path.abspath(os.path.join('..'))\n",
    "if module_path not in sys.path:\n",
    "    sys.path.append(module_path)\n",
    "\n",
    "from libs.scrapers.statusinvest import (\n",
    "    StockListScraper,\n",
    ")"
   ]
  },
  {
   "cell_type": "markdown",
   "metadata": {},
   "source": [
    "### Reading List of Stocks (plus general stock data)"
   ]
  },
  {
   "cell_type": "code",
   "execution_count": 19,
   "metadata": {},
   "outputs": [
    {
     "name": "stdout",
     "output_type": "stream",
     "text": [
      "TICKER  PRECO    DY   P/L  P/VP  P/ATIVOS  MARGEM BRUTA  MARGEM EBIT  MARG. LIQUIDA  P/EBIT\n",
      " VALE3  69.50  8.75  6.64  1.66      0.71         40.12        31.07          23.03    4.92\n",
      " PETR4  39.96 18.31  3.81  1.35      0.51         51.08        38.69          25.53    2.51\n",
      " ITUB4  32.81  3.83 10.10  1.75      0.13         30.03         9.92           8.30    8.46\n",
      " BBDC4  15.52  7.17 11.93  0.99      0.09         30.94         3.95           6.18   18.68\n",
      " BBAS3  56.97  8.03  4.90  0.99      0.07         32.66        15.94          12.40    3.81\n",
      "--- Total stock tickers in the list: 620 ---\n"
     ]
    }
   ],
   "source": [
    "stocks_general_data_df = StockListScraper().dataframe_format\n",
    "\n",
    "# show most liquid stocks (it also shows only the first X columns)\n",
    "stocks_general_data_df.sort_values(\"LIQUIDEZ MEDIA DIARIA\", ascending=False, inplace=True)\n",
    "print(stocks_general_data_df[stocks_general_data_df.columns[0:10]][0:5].to_string(index=False))\n",
    "print(f\"--- Total stock tickers in the list: {stocks_general_data_df.shape[0]} ---\")"
   ]
  },
  {
   "cell_type": "markdown",
   "metadata": {},
   "source": [
    "### Filter out stocks"
   ]
  },
  {
   "cell_type": "code",
   "execution_count": 20,
   "metadata": {},
   "outputs": [
    {
     "name": "stdout",
     "output_type": "stream",
     "text": [
      "--- Filtered stock tickers in the list: 219 ---\n"
     ]
    }
   ],
   "source": [
    "# by trading liquidity\n",
    "stocks_general_data_df = stocks_general_data_df[stocks_general_data_df[\"LIQUIDEZ MEDIA DIARIA\"] >= 1_000_000]\n",
    "\n",
    "# filter out only the most liquid stock from each company\n",
    "stocks_general_data_df[\"PREFIX\"] = stocks_general_data_df[\"TICKER\"].str.upper().str[:4]\n",
    "stocks_general_data_df.sort_values(\"LIQUIDEZ MEDIA DIARIA\", ascending=False, inplace=True)\n",
    "stocks_general_data_df.drop_duplicates(\"PREFIX\", keep=\"first\", inplace=True)\n",
    "stocks_general_data_df.drop(\"PREFIX\", axis=1, inplace=True)\n",
    "\n",
    "# show stock tickers count after filter applied\n",
    "print(f\"--- Filtered stock tickers in the list: {stocks_general_data_df.shape[0]} ---\")"
   ]
  },
  {
   "cell_type": "markdown",
   "metadata": {},
   "source": [
    "### Output result into a file"
   ]
  },
  {
   "cell_type": "code",
   "execution_count": 3,
   "metadata": {},
   "outputs": [],
   "source": [
    "stocks_general_data_df.to_csv(\"../outputs/statusinvest.csv\", sep=\";\", index=False)"
   ]
  }
 ],
 "metadata": {
  "colab": {
   "authorship_tag": "ABX9TyMwWrJPwqib5Rhcf3MZ181a",
   "collapsed_sections": [],
   "name": "stocks - fundamentus.ipynb",
   "provenance": []
  },
  "kernelspec": {
   "display_name": "Python 3",
   "language": "python",
   "name": "python3"
  },
  "language_info": {
   "codemirror_mode": {
    "name": "ipython",
    "version": 3
   },
   "file_extension": ".py",
   "mimetype": "text/x-python",
   "name": "python",
   "nbconvert_exporter": "python",
   "pygments_lexer": "ipython3",
   "version": "3.12.1"
  }
 },
 "nbformat": 4,
 "nbformat_minor": 4
}
