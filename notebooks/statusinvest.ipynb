{
 "cells": [
  {
   "cell_type": "markdown",
   "metadata": {},
   "source": [
    "## Status Invest\n",
    "\n",
    "This script reads all stocks data available in https://statusinvest.com.br/ using scrapers.\\\n",
    "Giving you the possibility to filter out only the relevant stocks as desired."
   ]
  },
  {
   "cell_type": "code",
   "execution_count": 1,
   "metadata": {},
   "outputs": [],
   "source": [
    "import os\n",
    "import sys\n",
    "\n",
    "module_path = os.path.abspath(os.path.join('..'))\n",
    "if module_path not in sys.path:\n",
    "    sys.path.append(module_path)\n",
    "\n",
    "from libs.scrapers.statusinvest import (\n",
    "    StockListScraper,\n",
    ")"
   ]
  },
  {
   "cell_type": "markdown",
   "metadata": {},
   "source": [
    "### Reading List of Stocks (plus general stock data)"
   ]
  },
  {
   "cell_type": "code",
   "execution_count": 2,
   "metadata": {},
   "outputs": [
    {
     "name": "stdout",
     "output_type": "stream",
     "text": [
      "TICKER  PRECO    DY   P/L  P/VP  P/ATIVOS  MARGEM BRUTA  MARGEM EBIT  MARG. LIQUIDA  P/EBIT  EV/EBIT  DIVIDA LIQUIDA / EBIT\n",
      " VALE3  68.36  8.89  6.53  1.63      0.70         40.12        31.07          23.03    4.84     5.62                   0.78\n",
      " PETR4  39.28 18.63  3.74  1.33      0.50         51.08        38.69          25.53    2.47     3.68                   1.15\n",
      " ITUB4  32.33  3.89  9.96  1.73      0.13         30.03         9.92           8.30    8.33     7.73                    NaN\n",
      " BBDC4  15.36  7.25 11.81  0.98      0.09         30.94         3.95           6.18   18.49    17.49                    NaN\n",
      " BBAS3  56.58  8.09  4.87  0.98      0.07         32.66        15.94          12.40    3.79     3.79                    NaN\n",
      "--- Total stock tickers in the list: 620 ---\n"
     ]
    }
   ],
   "source": [
    "stocks_general_data_df = StockListScraper().dataframe_format\n",
    "\n",
    "# show most liquid stocks (it also shows only the first X columns)\n",
    "stocks_general_data_df.sort_values(\"LIQUIDEZ MEDIA DIARIA\", ascending=False, inplace=True)\n",
    "print(stocks_general_data_df[stocks_general_data_df.columns[0:12]][0:5].to_string(index=False))\n",
    "print(f\"--- Total stock tickers in the list: {stocks_general_data_df.shape[0]} ---\")"
   ]
  },
  {
   "cell_type": "markdown",
   "metadata": {},
   "source": [
    "### Output result into a file"
   ]
  },
  {
   "cell_type": "code",
   "execution_count": 3,
   "metadata": {},
   "outputs": [],
   "source": [
    "stocks_general_data_df.to_csv(\"../outputs/statusinvest.csv\", sep=\";\", index=False)"
   ]
  }
 ],
 "metadata": {
  "colab": {
   "authorship_tag": "ABX9TyMwWrJPwqib5Rhcf3MZ181a",
   "collapsed_sections": [],
   "name": "stocks - fundamentus.ipynb",
   "provenance": []
  },
  "kernelspec": {
   "display_name": "Python 3",
   "language": "python",
   "name": "python3"
  },
  "language_info": {
   "codemirror_mode": {
    "name": "ipython",
    "version": 3
   },
   "file_extension": ".py",
   "mimetype": "text/x-python",
   "name": "python",
   "nbconvert_exporter": "python",
   "pygments_lexer": "ipython3",
   "version": "3.12.1"
  }
 },
 "nbformat": 4,
 "nbformat_minor": 4
}
