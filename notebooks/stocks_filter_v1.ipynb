{
 "cells": [
  {
   "cell_type": "markdown",
   "metadata": {},
   "source": [
    "## Stocks Filter and Pre Analysis\n",
    "\n",
    "This script reads the result (output) files created by the other 'fundamentei', 'fundamentus' and 'statusinvest' notebook scripts.\\\n",
    "Filtering the stocks based on the indicators plus parameters."
   ]
  },
  {
   "cell_type": "code",
   "execution_count": null,
   "metadata": {},
   "outputs": [],
   "source": [
    "import pandas"
   ]
  },
  {
   "cell_type": "markdown",
   "metadata": {},
   "source": [
    "-----"
   ]
  },
  {
   "cell_type": "code",
   "execution_count": 2,
   "metadata": {},
   "outputs": [],
   "source": [
    "# read fundamentei output file\n",
    "fundamentei_df = pandas.read_csv(\"../outputs/fundamentei.csv\", sep=\";\")\n",
    "fundamentei_df.index = fundamentei_df['Ticker']\n",
    "fundamentei_df.index.name = None\n",
    "\n",
    "# list columns and example of data\n",
    "# print(fundamentei_df.columns)\n",
    "# print(fundamentei_df[0:1].T)"
   ]
  },
  {
   "cell_type": "code",
   "execution_count": 3,
   "metadata": {},
   "outputs": [],
   "source": [
    "fundamentei_df = fundamentei_df[[\n",
    "    \"Ticker\",                #        VALE3\n",
    "    \"Nome da Empresa\",       #         Vale\n",
    "    \"Nota dos Usuários\",     #          4.3\n",
    "    \"Num. de Votos\",         #          103\n",
    "    \"Segmento de Listagem\",  # Novo Mercado\n",
    "    \"Tag Along\",             #      100% ON\n",
    "    \"Free Float\",            #    76,48% ON\n",
    "    \"Listagem CVM\",          #         2015\n",
    "    \"Fundação\",              #         2019\n",
    "]]"
   ]
  },
  {
   "cell_type": "markdown",
   "metadata": {},
   "source": [
    "-----"
   ]
  },
  {
   "cell_type": "code",
   "execution_count": 4,
   "metadata": {},
   "outputs": [],
   "source": [
    "# read statusinvest output file\n",
    "statusinvest_df = pandas.read_csv(\"../outputs/statusinvest.csv\", sep=\";\")\n",
    "statusinvest_df.index = statusinvest_df['TICKER']\n",
    "statusinvest_df.index.name = None\n",
    "\n",
    "# list columns and example of data\n",
    "# print(statusinvest_df.columns)\n",
    "# print(statusinvest_df[0:1].T)"
   ]
  },
  {
   "cell_type": "code",
   "execution_count": 5,
   "metadata": {},
   "outputs": [],
   "source": [
    "statusinvest_df = statusinvest_df[[\n",
    "  # \"TICKER\",                                 #               VALE3\n",
    "  # \"PRECO\",                                  #               66.22\n",
    "  # \"DY\",                                     #                9.18\n",
    "    \"P/L\",                                    #                6.33\n",
    "    \"P/VP\",                                   #                1.58\n",
    "    \"P/ATIVOS\",                               #                0.67\n",
    "    \"MARGEM BRUTA\",                           #               40.12\n",
    "    \"MARGEM EBIT\",                            #               31.07\n",
    "    \"MARG. LIQUIDA\",                          #               23.03\n",
    "  # \"P/EBIT\",                                 #                4.69\n",
    "    \"EV/EBIT\",                                #                5.47\n",
    "    \"DIVIDA LIQUIDA / EBIT\",                  #                0.78\n",
    "    \"DIV. LIQ. / PATRI.\",                     #                0.26\n",
    "  # \"PSR\",                                    #                1.46\n",
    "  # \"P/CAP. GIRO\",                            #               58.34\n",
    "  # \"P. AT CIR. LIQ.\",                        #               -0.81\n",
    "    \"LIQ. CORRENTE\",                          #                1.08\n",
    "  # \"ROE\",                                    #               24.99\n",
    "  # \"ROA\",                                    #               10.66\n",
    "  # \"ROIC\",                                   #               21.26\n",
    "  # \"PATRIMONIO / ATIVOS\",                    #                0.43\n",
    "    \"PASSIVOS / ATIVOS\",                      #                0.56\n",
    "  # \"GIRO ATIVOS\",                            #                0.46\n",
    "  # \"CAGR RECEITAS 5 ANOS\",                   #               15.85\n",
    "  # \"CAGR LUCROS 5 ANOS\",                     #               21.94\n",
    "    \"LIQUIDEZ MEDIA DIARIA\",                  #       1902180697.54\n",
    "  # \"VPA\",                                    #                41.9\n",
    "  # \"LPA\",                                    #               10.47\n",
    "  # \"PEG Ratio\",                              #               -0.11\n",
    "  # \"VALOR DE MERCADO\",                       # 300391521644.400024\n",
    "    \"Vol Histórica\",                          #           26.264967\n",
    "  # \"Tag Along\",                              #              100.0%\n",
    "    \"Tickers Opções\",                         #              1032.0\n",
    "  # \"Segmento\",                               #        Novo Mercado\n",
    "  # \"Free Float\",                             #              98.01%\n",
    "    \"margembruta_pos_years\",                  #                 1.0\n",
    "    \"margemliquida_pos_years\",                #            0.882353\n",
    "    \"margemliquida_last_negative_year\",       #              2019.0\n",
    "    \"lpa_pos_years\",                          #            0.857143\n",
    "    \"lpa_last_negative_year\",                 #              2019.0\n",
    "    \"margembruta_trend\",                      #           -0.010161\n",
    "    \"margemliquida_trend\",                    #             0.01545\n",
    "    \"lpa_trend\",                              #            0.088552\n",
    "    \"vpa_trend\",                              #            0.032694\n",
    "    \"dividaliquida_patrimonioliquido_trend\",  #           -0.040654\n",
    "    \"dividaliquida_ebit_trend\",               #            0.010392\n",
    "    \"passivo_ativo_trend\",                    #            0.017564\n",
    "    \"liquidezcorrente_trend\",                 #           -0.077705\n",
    "    \"margembruta_last_negative_year\",         #                 NaN\n",
    "]]"
   ]
  },
  {
   "cell_type": "markdown",
   "metadata": {},
   "source": [
    "------"
   ]
  },
  {
   "cell_type": "code",
   "execution_count": 6,
   "metadata": {},
   "outputs": [],
   "source": [
    "# read fundamentus output file\n",
    "fundamentus_df = pandas.read_csv(\"../outputs/fundamentus.csv\", sep=\";\")\n",
    "fundamentus_df.index = fundamentus_df['Papel']\n",
    "fundamentus_df.index.name = None\n",
    "\n",
    "# list columns and example of data\n",
    "# print(fundamentus_df.columns)\n",
    "# print(fundamentus_df[0:1].T)"
   ]
  },
  {
   "cell_type": "code",
   "execution_count": 7,
   "metadata": {},
   "outputs": [],
   "source": [
    "fundamentus_df = fundamentus_df[[\n",
    "  # \"Papel\",               #              VALE3\n",
    "  # \"Tipo\",                #              ON NM\n",
    "  # \"Empresa\",             #         VALE ON NM\n",
    "    \"Setor\",               #          Mineração\n",
    "    \"Subsetor\",            # Minerais Metálicos\n",
    "  # \"Cotação\",             #              68.36\n",
    "  # \"Min 52 sem\",          #              59.31\n",
    "  # \"Max 52 sem\",          #              90.84\n",
    "  # \"Vol $ méd (2m)\",      #       1686170000.0\n",
    "  # \"Nro. Ações\",          #       4539010000.0\n",
    "  # \"Valor de mercado\",    #     310287000000.0\n",
    "  # \"Valor da firma\",      #     360408000000.0\n",
    "  # \"P/L\",                 #               6.53\n",
    "  # \"LPA\",                 #              10.47\n",
    "  # \"P/VP\",                #               1.63\n",
    "  # \"VPA\",                 #               41.9\n",
    "  # \"P/EBIT\",              #               3.88\n",
    "  # \"Marg. Bruta\",         #              40.1%\n",
    "  # \"PSR\",                 #                1.5\n",
    "  # \"Marg. EBIT\",          #              38.8%\n",
    "  # \"P/Ativos\",            #                0.7\n",
    "  # \"Marg. Líquida\",       #              23.3%\n",
    "  # \"P/Cap. Giro\",         #              60.23\n",
    "  # \"EBIT / Ativo\",        #              17.9%\n",
    "  # \"P/Ativ Circ Liq\",     #              -1.78\n",
    "  # \"Div. Yield\",          #               8.9%\n",
    "  # \"ROIC\",                #              20.1%\n",
    "  # \"ROE\",                 #              25.0%\n",
    "  # \"EV / EBITDA\",         #               3.76\n",
    "  # \"Liquidez Corr\",       #               1.08\n",
    "  # \"EV / EBIT\",           #               4.51\n",
    "    \"Div Br/ Patrim\",      #               0.37\n",
    "  # \"Cres. Rec (5a)\",      #              10.7%\n",
    "  # \"Giro Ativos\",         #               0.46\n",
    "  # \"Ativo\",               #     445621000000.0\n",
    "  # \"Dív. Bruta\",          #      70289000000.0\n",
    "  # \"Disponibilidades\",    #      20168000000.0\n",
    "    \"Dív. Líquida\",        #      50121000000.0\n",
    "  # \"Ativo Circulante\",    #      73474000000.0\n",
    "    \"Patrim. Líq\",         #     190172000000.0\n",
    "  # \"Receita Líquida\",     #     206296000000.0\n",
    "  # \"EBIT\",                #      79954000000.0\n",
    "  # \"Lucro Líquido\",       #      47517000000.0\n",
    "  # \"Receita Líquida_\",    #      51962000000.0\n",
    "  # \"EBIT_\",               #      20379000000.0\n",
    "  # \"Lucro Líquido_\",      #      13864000000.0\n",
    "  # \"Depósitos\",           #                NaN\n",
    "  # \"Cart. de Crédito\",    #                NaN\n",
    "  # \"Result Int Financ\",   #                NaN\n",
    "  # \"Result Int Financ_\",  #                NaN\n",
    "  # \"Rec Serviços\",        #                NaN\n",
    "  # \"Rec Serviços_\",       #                NaN\n",
    "]]"
   ]
  },
  {
   "cell_type": "markdown",
   "metadata": {},
   "source": [
    "-----"
   ]
  },
  {
   "cell_type": "code",
   "execution_count": 8,
   "metadata": {},
   "outputs": [],
   "source": [
    "stock_infos_df = pandas.concat([fundamentei_df, statusinvest_df, fundamentus_df], axis=1)\n",
    "\n",
    "# list columns and example of data\n",
    "# print(stock_infos_df.columns)\n",
    "# print(stock_infos_df[0:1].T)"
   ]
  },
  {
   "cell_type": "code",
   "execution_count": 9,
   "metadata": {},
   "outputs": [
    {
     "name": "stdout",
     "output_type": "stream",
     "text": [
      "      Ticker  Nome da Empresa                            Setor\n",
      "VALE3  VALE3             Vale                        Mineração\n",
      "PETR4  PETR4        Petrobras  Petróleo, Gás e Biocombustíveis\n",
      "ITUB4  ITUB4       Banco Itaú       Intermediários Financeiros\n",
      "BBDC4  BBDC4   Banco Bradesco       Intermediários Financeiros\n",
      "BBAS3  BBAS3  Banco do Brasil       Intermediários Financeiros\n",
      "...      ...              ...                              ...\n",
      "PARD3    NaN              NaN                              NaN\n",
      "PINE4    NaN              NaN       Intermediários Financeiros\n",
      "BRPR3    NaN              NaN                              NaN\n",
      "HBRE3    NaN              NaN            Exploração de Imóveis\n",
      "APER3    NaN              NaN            Previdência e Seguros\n",
      "\n",
      "[216 rows x 3 columns]\n"
     ]
    }
   ],
   "source": [
    "stock_infos_df = stock_infos_df[[\n",
    "    \"Ticker\",                                 #              VALE3\n",
    "    \"Nome da Empresa\",                        #               Vale\n",
    "    \"Setor\",                                  #          Mineração\n",
    "    \"Subsetor\",                               # Minerais Metálicos\n",
    "\n",
    "    \"Nota dos Usuários\",                      #                4.3\n",
    "    \"Num. de Votos\",                          #                130\n",
    "    \"Segmento de Listagem\",                   #       Novo Mercado\n",
    "    \"Tag Along\",                              #            100% ON\n",
    "    \"Free Float\",                             #          76,48% ON\n",
    "    \"Listagem CVM\",                           #               2015\n",
    "    \"Fundação\",                               #               2019\n",
    "\n",
    "    \"Vol Histórica\",                          #          26.264967\n",
    "    \"Tickers Opções\",                         #             1032.0\n",
    "    \"LIQUIDEZ MEDIA DIARIA\",                  #      1902180697.54\n",
    "    \n",
    "    \"P/L\",                                    #               6.33\n",
    "    \"lpa_pos_years\",                          #           0.857143\n",
    "    \"lpa_last_negative_year\",                 #             2019.0\n",
    "    \"lpa_trend\",                              #           0.088552\n",
    "\n",
    "    \"P/ATIVOS\",                               #               0.67\n",
    "    \"P/VP\",                                   #               1.58\n",
    "    \"vpa_trend\",                              #           0.032694\n",
    "\n",
    "    \"MARGEM BRUTA\",                           #              40.12\n",
    "    \"margembruta_pos_years\",                  #                1.0\n",
    "    \"margembruta_last_negative_year\",         #                NaN\n",
    "    \"margembruta_trend\",                      #          -0.010161\n",
    "\n",
    "    \"MARGEM EBIT\",                            #              31.07\n",
    "\n",
    "    \"MARG. LIQUIDA\",                          #              23.03\n",
    "    \"margemliquida_pos_years\",                #           0.882353\n",
    "    \"margemliquida_last_negative_year\",       #             2019.0\n",
    "    \"margemliquida_trend\",                    #            0.01545\n",
    "\n",
    "    \"EV/EBIT\",                                #               5.47\n",
    "\n",
    "    \"LIQ. CORRENTE\",                          #               1.08\n",
    "    \"liquidezcorrente_trend\",                 #          -0.077705\n",
    "\n",
    "    \"DIVIDA LIQUIDA / EBIT\",                  #               0.78\n",
    "    \"dividaliquida_ebit_trend\",               #           0.010392\n",
    "\n",
    "    \"DIV. LIQ. / PATRI.\",                     #               0.26\n",
    "    \"dividaliquida_patrimonioliquido_trend\",  #          -0.040654\n",
    "\n",
    "    \"PASSIVOS / ATIVOS\",                      #               0.56\n",
    "    \"passivo_ativo_trend\",                    #           0.017564\n",
    "\n",
    "    \"Div Br/ Patrim\",                         #               0.37\n",
    "    \"Dív. Líquida\",                           #      50121000000.0\n",
    "    \"Patrim. Líq\",                            #     190172000000.0\n",
    "]]\n",
    "\n",
    "# show company most relevant infos\n",
    "print(stock_infos_df[stock_infos_df.columns[0:3]])"
   ]
  },
  {
   "cell_type": "markdown",
   "metadata": {},
   "source": [
    "----"
   ]
  },
  {
   "cell_type": "code",
   "execution_count": 10,
   "metadata": {},
   "outputs": [],
   "source": [
    "stock_infos_df = stock_infos_df[~stock_infos_df['Ticker'].isna()]\n",
    "stock_infos_df = stock_infos_df[~(stock_infos_df['Patrim. Líq'] < 0)]\n",
    "stock_infos_df = stock_infos_df[~(stock_infos_df['Nota dos Usuários'] < 4)]"
   ]
  },
  {
   "cell_type": "markdown",
   "metadata": {},
   "source": [
    "### Store result data"
   ]
  },
  {
   "cell_type": "code",
   "execution_count": 11,
   "metadata": {},
   "outputs": [],
   "source": [
    "stock_infos_df.to_csv(\"../outputs/stocks_filter_v1.csv\", sep=\";\")\n",
    "stock_infos_df.to_excel(\"../outputs/stocks_filter_v1.xlsx\")"
   ]
  }
 ],
 "metadata": {
  "kernelspec": {
   "display_name": ".venv",
   "language": "python",
   "name": "python3"
  },
  "language_info": {
   "codemirror_mode": {
    "name": "ipython",
    "version": 3
   },
   "file_extension": ".py",
   "mimetype": "text/x-python",
   "name": "python",
   "nbconvert_exporter": "python",
   "pygments_lexer": "ipython3",
   "version": "3.12.2"
  }
 },
 "nbformat": 4,
 "nbformat_minor": 2
}
