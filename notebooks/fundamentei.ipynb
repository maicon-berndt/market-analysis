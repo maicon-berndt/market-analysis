{
 "cells": [
  {
   "cell_type": "markdown",
   "metadata": {
    "tags": []
   },
   "source": [
    "## Fundamentei\n",
    "\n",
    "This script reads a few stocks infos available in https://fundamentei.com/ using scrapers."
   ]
  },
  {
   "cell_type": "code",
   "execution_count": null,
   "metadata": {},
   "outputs": [],
   "source": [
    "import os\n",
    "import pandas\n",
    "import sys\n",
    "\n",
    "from tenacity import retry, wait_random, stop_after_attempt\n",
    "from tqdm import tqdm\n",
    "\n",
    "module_path = os.path.abspath(os.path.join('..'))\n",
    "if module_path not in sys.path:\n",
    "    sys.path.append(module_path)\n",
    "\n",
    "from libs.scrapers.fundamentei import (\n",
    "    StockInfosScraper\n",
    ")"
   ]
  },
  {
   "cell_type": "markdown",
   "metadata": {},
   "source": [
    "### Reading stock infos"
   ]
  },
  {
   "cell_type": "code",
   "execution_count": 2,
   "metadata": {},
   "outputs": [],
   "source": [
    "# You can run the following javascript command to get the list direct from the https://fundamentei.com/ website\n",
    "# COMMAND:\n",
    "#   tickers = []; document.querySelectorAll(\"#__next > div > div > div > div > a > div > div > div > div.rounded-md\").forEach(element => tickers.push(element.innerText)); console.log(tickers.join(\",\"));\n",
    "\n",
    "stock_tickers = None\n",
    "stock_tickers = \"PETR,ITUB,VALE,ABEV,BPAC,WEGE,BBAS,BBDC,ITSA,SANB,ELET,VIVT,SUZB,B3SA,BBSE,RDOR,RENT,SBSP,JBSS,CXSE,RADL,TIMS,RAIL,RAIZ,PRIO,CPFE,EQTL,GGBR,EGIE,CSAN,UGPA,CMIN,HAPV,CCRO,CPLE,CRFB,BRFS,VBBR,CMIG,KLBN,NTCO,ENGI,NEOE,EMBR,HYPE,CSNA,BRKM,ENEV,PSSA,ASAI,TRPL,TOTS,GMAT,EQPA,CEGR,ENMT,SMFT,MULT,LREN,MGLU,REDE,ALOS,CIEL,MDIA,CGAS,INBR,GGPS,TAEE,USIM,AURE,BPAN,GOAU,CEEB,STBP,SMTO,ALUP,VAMO,BNBR,EKTR,CYRE,MRFG,SLCE,FLRY,PORT,BRAP,POMO,SAPR,CSMG,ENAT,RRRP,IGTI,INTB,ODPV,ARZZ,SIMH,UNIP,RECV,WHRL,DXCO,ALPA,AESB,VIVA,ECOR,SRNA,CURY,SOMA,BRSR,GRND,ABCB,GOLL,YDUQ,DASA,TTEN,BAZA,ONCO,SHUL,COGN,AZUL,VULC,FRAS,MOAR,ARML,LEVE,MRVE,DIRR,BEEF,CSRN,BSLI,TUPY,LOGN,RAPT,GUAR,COCE,GPAR,EZTC,FESA,JSLG,LWSA,MOVI,MILS,IRBR,ORVR,SBFG,CBEE,CAML,CEAB,JHSF,BEES,CBAV,PLPL,HBSA,AMBP,AURA,BMEB,CLSC,MATD,GEPA,VVEO,AGRO,JALL,LOGG,ELMD,PETZ,RANI,BLAU,SOJA,MYPK,BMGB,TFCO,LIGT,ANIM,CVCB,TGMA,PNVL,KEPL,LAVV,MLAS,TASA,CSED,EVEN,DESK,BRIT,LAND,TEND,EUCA,PCAR,PGMN,SCAR,VLID,FIQE,CEBR,VSTE,BRBI,SYNE,OFSA,OPCT,PINE,FRIO,POSI,LJQQ,BMOB,DEXP,ROMI,TELB,BRIV,MDNE,TRIS,WIZC,VITT,CRPG,ZAMP,PTBL,ALPK,EMAE,BRGE,MELK,BIOM,WLMM,SEER,CSUD,AALR,APER,CLSA,AVLL,BHIA,PEAB,LIPR,RPAD,ALLD,CRIV,QUAL,AERI,PFRM,KRSA,PATI,CASH,IFCM,HBRE,MEAL,GFSA,MTSA,CGRA,MTRE,PRNR,AMER,PTNT,ETER,DOHL,AFLT,OIBR,BGIP,CAMB,HBOR,ESPA,ENJU,DMVF,HBTS,BOBR,CEDO,FHER,LPSB,RNEW,AGXY,GPIV,TECN,MSPA,NINJ,MGEL,NGRD,TKNO,LVTC,MBLY,EALT,TRAD,BAHI,JOPA,TCSA,G2DI,MERC,AZEV,PDTC,PMAM,UCAS,RDNI,BMKS,TPIS,SEQL,SHOW,RPMG,MNPR,AHEB,AMAR,CTNM,RCSL,WEST,INEP,EPAR,PLAS,CTKA,SOND,MNDL,BALM,HOOT,BMIN,VIVR,NUTR,SNSY,LUPA,DOTZ,CALI,ATMP,RSID,NORD,CTSA,DTCY,ATOM,BAUH,SGPS,JFEN,LUXM,ESTR,FIEI,RSUL,PDGR,TEKA,GSHP,HAGA,TXRX,HETA,MWET,BDLL,OSXB,NEXP,MAPT,FRTA,PSVM,PPLA\".split(\",\")"
   ]
  },
  {
   "cell_type": "code",
   "execution_count": 3,
   "metadata": {},
   "outputs": [],
   "source": [
    "# If the list is not pre defined, get stock list from other processes outputs\n",
    "if not stock_tickers:\n",
    "    # reading fundamentus tickers list\n",
    "    fundamentus_tickers = pandas.read_csv(\"../outputs/fundamentus.csv\", sep=\";\")[\"Papel\"]\n",
    "    fundamentus_tickers.columns = ['stock_ticker']\n",
    "\n",
    "    # reading status invest tickers list\n",
    "    statusinvest_tickers = pandas.read_csv(\"../outputs/statusinvest.csv\", sep=\";\")[\"TICKER\"]\n",
    "    statusinvest_tickers.columns = ['stock_ticker']\n",
    "\n",
    "    # get deduped tickers list\n",
    "    stock_tickers = pandas.concat([fundamentus_tickers, statusinvest_tickers]).drop_duplicates().values"
   ]
  },
  {
   "cell_type": "code",
   "execution_count": 4,
   "metadata": {},
   "outputs": [],
   "source": [
    "@retry(stop=stop_after_attempt(5), wait=wait_random(min=1, max=5))\n",
    "def get_stock_infos_df(stock_ticker: str) -> pandas.DataFrame:\n",
    "    return StockInfosScraper(stock_ticker).dataframe_format"
   ]
  },
  {
   "cell_type": "code",
   "execution_count": 5,
   "metadata": {},
   "outputs": [
    {
     "name": "stderr",
     "output_type": "stream",
     "text": [
      "100%|██████████| 337/337 [08:04<00:00,  1.44s/it]"
     ]
    },
    {
     "name": "stdout",
     "output_type": "stream",
     "text": [
      "     Ticker       Nome da Empresa         Setor de Atuação Nota dos Usuários\n",
      "PETR   PETR             Petrobras  Petróleo e Gás - Refino               3.8\n",
      "ITUB   ITUB                  Itaú                   Bancos               4.9\n",
      "VALE   VALE                  Vale                Mineração               4.3\n",
      "ABEV   ABEV                 Ambev                  Bebidas               4.4\n",
      "BPAC   BPAC           BTG Pactual                   Bancos               4.3\n",
      "...     ...                   ...                      ...               ...\n",
      "NEXP   NEXP                 Nexpe    Exploração de Imóveis                 1\n",
      "MAPT   MAPT  Cemepe Investimentos                  Holding                 0\n",
      "FRTA   FRTA           Pomi Frutas     Alimentos - Variados               1.7\n",
      "PSVM   PSVM         Porto Sudeste    Logística e Portuário                 0\n",
      "PPLA   PPLA                  PPLA                  Holding                 0\n",
      "\n",
      "[336 rows x 4 columns]\n",
      "Filed stock tickers: ['PMAM']\n"
     ]
    },
    {
     "name": "stderr",
     "output_type": "stream",
     "text": [
      "\n"
     ]
    }
   ],
   "source": [
    "# get info from all stocks\n",
    "stock_infos_df = None\n",
    "failed_tickers = []\n",
    "\n",
    "for stock_ticker in tqdm(stock_tickers):\n",
    "    try:\n",
    "        # read stock infos\n",
    "        si_df = get_stock_infos_df(stock_ticker)\n",
    "        si_df.columns = [stock_ticker]\n",
    "        si_df = si_df.T\n",
    "        stock_infos_df = pandas.concat([stock_infos_df, si_df])\n",
    "    except:\n",
    "        failed_tickers.append(stock_ticker)\n",
    "\n",
    "# show company infos retrieved from Fundamentei\n",
    "print(stock_infos_df[stock_infos_df.columns[0:4]])\n",
    "print(f\"Filed stock tickers: {failed_tickers}\")\n"
   ]
  },
  {
   "cell_type": "markdown",
   "metadata": {},
   "source": [
    "### Output result into a file   "
   ]
  },
  {
   "cell_type": "code",
   "execution_count": 6,
   "metadata": {},
   "outputs": [],
   "source": [
    "stock_infos_df.to_csv(\"../outputs/fundamentei.csv\", sep=\";\", index=False)"
   ]
  }
 ],
 "metadata": {
  "kernelspec": {
   "display_name": ".venv",
   "language": "python",
   "name": "python3"
  },
  "language_info": {
   "codemirror_mode": {
    "name": "ipython",
    "version": 3
   },
   "file_extension": ".py",
   "mimetype": "text/x-python",
   "name": "python",
   "nbconvert_exporter": "python",
   "pygments_lexer": "ipython3",
   "version": "3.12.2"
  }
 },
 "nbformat": 4,
 "nbformat_minor": 2
}
