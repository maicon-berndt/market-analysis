{
 "cells": [
  {
   "cell_type": "markdown",
   "metadata": {
    "tags": []
   },
   "source": [
    "## Fundamentei\n",
    "\n",
    "This script reads a few stocks infos available in https://fundamentei.com/ using scrapers."
   ]
  },
  {
   "cell_type": "code",
   "execution_count": null,
   "metadata": {},
   "outputs": [],
   "source": [
    "import os\n",
    "import pandas\n",
    "import sys\n",
    "\n",
    "from tenacity import retry, wait_random, stop_after_attempt\n",
    "from tqdm import tqdm\n",
    "\n",
    "module_path = os.path.abspath(os.path.join('..'))\n",
    "if module_path not in sys.path:\n",
    "    sys.path.append(module_path)\n",
    "\n",
    "from libs.scrapers.fundamentei import (\n",
    "    StockInfosScraper\n",
    ")"
   ]
  },
  {
   "cell_type": "markdown",
   "metadata": {},
   "source": [
    "### Reading stock infos"
   ]
  },
  {
   "cell_type": "code",
   "execution_count": 2,
   "metadata": {},
   "outputs": [],
   "source": [
    "# reading fundamentus tickers list\n",
    "fundamentus_tickers = pandas.read_csv(\"../outputs/fundamentus.csv\", sep=\";\")[\"Papel\"]\n",
    "fundamentus_tickers.columns = ['stock_ticker']\n",
    "\n",
    "# reading status invest tickers list\n",
    "statusinvest_tickers = pandas.read_csv(\"../outputs/statusinvest.csv\", sep=\";\")[\"TICKER\"]\n",
    "statusinvest_tickers.columns = ['stock_ticker']"
   ]
  },
  {
   "cell_type": "code",
   "execution_count": 3,
   "metadata": {},
   "outputs": [],
   "source": [
    "# get deduped tickers list\n",
    "stock_tickers = pandas.concat([fundamentus_tickers, statusinvest_tickers]).drop_duplicates().values"
   ]
  },
  {
   "cell_type": "code",
   "execution_count": 4,
   "metadata": {},
   "outputs": [],
   "source": [
    "@retry(stop=stop_after_attempt(5), wait=wait_random(min=10, max=20))\n",
    "def get_stock_infos_df(stock_ticker: str) -> pandas.DataFrame:\n",
    "    return StockInfosScraper(stock_ticker).dataframe_format"
   ]
  },
  {
   "cell_type": "code",
   "execution_count": 5,
   "metadata": {},
   "outputs": [
    {
     "name": "stderr",
     "output_type": "stream",
     "text": [
      "100%|██████████| 220/220 [14:28<00:00,  3.95s/it]"
     ]
    },
    {
     "name": "stdout",
     "output_type": "stream",
     "text": [
      "      Ticker  Nome da Empresa Nota dos Usuários\n",
      "VALE3  VALE3             Vale               4.3\n",
      "PETR4  PETR4        Petrobras               3.7\n",
      "ITUB4  ITUB4       Banco Itaú               4.8\n",
      "BBDC4  BBDC4   Banco Bradesco               4.3\n",
      "BBAS3  BBAS3  Banco do Brasil               4.7\n",
      "...      ...              ...               ...\n",
      "EUCA4  EUCA4          Eucatex               2.7\n",
      "CAMB3  CAMB3          Cambuci               3.9\n",
      "ELMD3  ELMD3      Eletromidia               2.6\n",
      "LAND3  LAND3      Terra Santa               3.8\n",
      "FIQE3  FIQE3         Unifique               4.4\n",
      "\n",
      "[213 rows x 3 columns]\n",
      "Filed stock tickers: ['RCSL3', 'BOAS3', 'SQIA3', 'ENBR3', 'MODL3', 'PARD3', 'BRPR3']\n"
     ]
    },
    {
     "name": "stderr",
     "output_type": "stream",
     "text": [
      "\n"
     ]
    }
   ],
   "source": [
    "# get info from all stocks\n",
    "stock_infos_df = None\n",
    "failed_tickers = []\n",
    "\n",
    "for stock_ticker in tqdm(stock_tickers):\n",
    "    try:\n",
    "        # read stock infos\n",
    "        si_df = get_stock_infos_df(stock_ticker)\n",
    "        si_df.columns = [stock_ticker]\n",
    "        si_df = si_df.T\n",
    "        stock_infos_df = pandas.concat([stock_infos_df, si_df])\n",
    "    except:\n",
    "        failed_tickers.append(stock_ticker)\n",
    "\n",
    "# show company infos retrieved from Fundamentei\n",
    "print(stock_infos_df[stock_infos_df.columns[0:3]])\n",
    "print(f\"Filed stock tickers: {failed_tickers}\")\n"
   ]
  },
  {
   "cell_type": "markdown",
   "metadata": {},
   "source": [
    "### Output result into a file   "
   ]
  },
  {
   "cell_type": "code",
   "execution_count": 6,
   "metadata": {},
   "outputs": [],
   "source": [
    "stock_infos_df.to_csv(\"../outputs/fundamentei.csv\", sep=\";\", index=False)"
   ]
  }
 ],
 "metadata": {
  "kernelspec": {
   "display_name": ".venv",
   "language": "python",
   "name": "python3"
  },
  "language_info": {
   "codemirror_mode": {
    "name": "ipython",
    "version": 3
   },
   "file_extension": ".py",
   "mimetype": "text/x-python",
   "name": "python",
   "nbconvert_exporter": "python",
   "pygments_lexer": "ipython3",
   "version": "3.12.1"
  }
 },
 "nbformat": 4,
 "nbformat_minor": 2
}
