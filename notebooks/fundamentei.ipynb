{
 "cells": [
  {
   "cell_type": "markdown",
   "metadata": {
    "tags": []
   },
   "source": [
    "## Fundamentei\n",
    "\n",
    "This script reads a few stocks infos available in https://fundamentei.com/ using scrapers."
   ]
  },
  {
   "cell_type": "code",
   "execution_count": 2,
   "metadata": {},
   "outputs": [],
   "source": [
    "import os\n",
    "import sys\n",
    "\n",
    "module_path = os.path.abspath(os.path.join('..'))\n",
    "if module_path not in sys.path:\n",
    "    sys.path.append(module_path)\n",
    "\n",
    "from libs.scrapers.fundamentei import (\n",
    "    StockInfosScraper\n",
    ")"
   ]
  },
  {
   "cell_type": "markdown",
   "metadata": {},
   "source": [
    "### Reading infos from a company (VALE3)"
   ]
  },
  {
   "cell_type": "code",
   "execution_count": 3,
   "metadata": {},
   "outputs": [
    {
     "name": "stdout",
     "output_type": "stream",
     "text": [
      "                                 0\n",
      "Nome da Empresa               Vale\n",
      "Nota dos Usuários              4.3\n",
      "Segmento de Listagem  Novo Mercado\n",
      "Tag Along                  100% ON\n",
      "Free Float               76,48% ON\n"
     ]
    }
   ],
   "source": [
    "stock_info_df = StockInfosScraper(\"VALE3\").dataframe_format\n",
    "\n",
    "# show company infos retrieved from Fundamentei\n",
    "print(stock_info_df)"
   ]
  }
 ],
 "metadata": {
  "kernelspec": {
   "display_name": ".venv",
   "language": "python",
   "name": "python3"
  },
  "language_info": {
   "codemirror_mode": {
    "name": "ipython",
    "version": 3
   },
   "file_extension": ".py",
   "mimetype": "text/x-python",
   "name": "python",
   "nbconvert_exporter": "python",
   "pygments_lexer": "ipython3",
   "version": "3.12.1"
  }
 },
 "nbformat": 4,
 "nbformat_minor": 2
}
