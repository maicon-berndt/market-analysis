{
 "cells": [
  {
   "cell_type": "markdown",
   "metadata": {},
   "source": [
    "## Fundamentus\n",
    "\n",
    "This script reads all stocks data available in https://fundamentus.com.br/ using scrapers.\\\n",
    "Giving you the possibility to filter out only the relevant stocks as desired."
   ]
  },
  {
   "cell_type": "code",
   "execution_count": null,
   "metadata": {},
   "outputs": [],
   "source": [
    "import os\n",
    "import numpy\n",
    "import pandas\n",
    "import sys\n",
    "\n",
    "from tqdm import tqdm\n",
    "\n",
    "module_path = os.path.abspath(os.path.join('..'))\n",
    "if module_path not in sys.path:\n",
    "    sys.path.append(module_path)\n",
    "\n",
    "from libs.scrapers.fundamentus import (\n",
    "    StockListScraper,\n",
    "    StockDetailsScraper,\n",
    ")"
   ]
  },
  {
   "cell_type": "markdown",
   "metadata": {},
   "source": [
    "### Reading List of Stocks (plus general stock data)"
   ]
  },
  {
   "cell_type": "code",
   "execution_count": 2,
   "metadata": {},
   "outputs": [
    {
     "name": "stdout",
     "output_type": "stream",
     "text": [
      "Papel  Cotação   P/L  P/VP   PSR Div.Yield  P/Ativo  P/Cap.Giro  P/EBIT  P/Ativ Circ.Liq  EV/EBIT  EV/EBITDA\n",
      "VALE3    68.36  6.53  1.63 1.504     8.89%    0.696       60.23    3.88            -1.78     4.51       3.76\n",
      "PETR4    39.28  3.74  1.33 0.955    18.45%    0.500      -70.58    2.13            -1.04     3.12       2.38\n",
      "ITUB4    32.33 10.20  1.81 0.000     3.89%    0.000        0.00    0.00             0.00     0.00       0.00\n",
      "BBDC4    15.36 11.00  1.02 0.000     7.25%    0.000        0.00    0.00             0.00     0.00       0.00\n",
      "BBAS3    56.58  4.85  1.01 0.000     8.07%    0.000        0.00    0.00             0.00     0.00       0.00\n",
      "--- Total stock tickers in the list: 983 ---\n"
     ]
    }
   ],
   "source": [
    "stocks_general_data_df = StockListScraper().dataframe_format\n",
    "\n",
    "# show most liquid stocks (it also shows only the first X columns)\n",
    "stocks_general_data_df.sort_values(\"Liq.2meses\", ascending=False, inplace=True)\n",
    "print(stocks_general_data_df[stocks_general_data_df.columns[0:12]][0:5].to_string(index=False))\n",
    "print(f\"--- Total stock tickers in the list: {stocks_general_data_df.shape[0]} ---\")"
   ]
  },
  {
   "cell_type": "markdown",
   "metadata": {},
   "source": [
    "### Filter out stocks\n"
   ]
  },
  {
   "cell_type": "code",
   "execution_count": 3,
   "metadata": {},
   "outputs": [
    {
     "name": "stdout",
     "output_type": "stream",
     "text": [
      "--- Filtered stock tickers in the list: 237 ---\n"
     ]
    }
   ],
   "source": [
    "# by trading liquidity\n",
    "stocks_general_data_df = stocks_general_data_df[stocks_general_data_df[\"Liq.2meses\"] >= 1_000_000]\n",
    "\n",
    "# show stock tickers count after filter applied\n",
    "print(f\"--- Filtered stock tickers in the list: {stocks_general_data_df.shape[0]} ---\")"
   ]
  },
  {
   "cell_type": "markdown",
   "metadata": {},
   "source": [
    "### Reading stocks detail data (one by one)"
   ]
  },
  {
   "cell_type": "code",
   "execution_count": null,
   "metadata": {},
   "outputs": [],
   "source": [
    "stocks_full_data_dict = {}\n",
    "\n",
    "for ticker in tqdm(stocks_general_data_df.index):\n",
    "    stocks_full_data_dict[ticker] = StockDetailsScraper(ticker).dict_format\n",
    "\n",
    "stocks_full_data_df = pandas.DataFrame.from_dict(stocks_full_data_dict, orient=\"index\")"
   ]
  },
  {
   "cell_type": "markdown",
   "metadata": {},
   "source": [
    "### Check stock liquidity (checking quote price date column)"
   ]
  },
  {
   "cell_type": "code",
   "execution_count": 5,
   "metadata": {},
   "outputs": [
    {
     "name": "stdout",
     "output_type": "stream",
     "text": [
      "--- Filtered stocks data in the list: 235 ---\n"
     ]
    }
   ],
   "source": [
    "stocks_full_data_df[\"Data últ cot\"] = pandas.to_datetime(stocks_full_data_df[\"Data últ cot\"], format=\"%d/%m/%Y\")\n",
    "stocks_full_data_df = stocks_full_data_df[stocks_full_data_df[\"Data últ cot\"] == stocks_full_data_df[\"Data últ cot\"].max()]\n",
    "\n",
    "# show stock tickers count after filter applied\n",
    "print(f\"--- Filtered stocks data in the list: {stocks_full_data_df.shape[0]} ---\")"
   ]
  },
  {
   "cell_type": "markdown",
   "metadata": {},
   "source": [
    "### Filter out relevant columns"
   ]
  },
  {
   "cell_type": "code",
   "execution_count": 6,
   "metadata": {},
   "outputs": [
    {
     "name": "stdout",
     "output_type": "stream",
     "text": [
      "Papel  Tipo                   Empresa                           Setor                          Subsetor  Cotação\n",
      "VALE3 ON NM                VALE ON NM                       Mineração                Minerais Metálicos    68.36\n",
      "PETR4    PN              PETROBRAS PN Petróleo, Gás e Biocombustíveis Exploração, Refino e Distribuição    39.28\n",
      "ITUB4 PN N1        ITAUUNIBANCO PN N1      Intermediários Financeiros                            Bancos    32.33\n",
      "BBDC4 PN N1 BANCO BRADESCO S.A. PN N1      Intermediários Financeiros                            Bancos    15.36\n",
      "BBAS3    ON   BANCO DO BRASIL S.A. ON      Intermediários Financeiros                            Bancos    56.58\n",
      "--- Total stock data rows in the list: 235 ---\n"
     ]
    }
   ],
   "source": [
    "cols = [\n",
    "    \"Papel\", \"Tipo\", \"Empresa\", \"Setor\", \"Subsetor\",\n",
    "    \"Cotação\", \"Min 52 sem\", \"Max 52 sem\", \"Vol $ méd (2m)\",\n",
    "    \"Nro. Ações\", \"Valor de mercado\", \"Valor da firma\",\n",
    "    \"P/L\", \"LPA\", \"P/VP\", \"VPA\", \"P/EBIT\", \"Marg. Bruta\",\n",
    "    \"PSR\", \"Marg. EBIT\", \"P/Ativos\", \"Marg. Líquida\", \n",
    "    \"P/Cap. Giro\", \"EBIT / Ativo\", \"P/Ativ Circ Liq\",\n",
    "    \"Div. Yield\", \"ROIC\",  \"ROE\", \"EV / EBITDA\", \"Liquidez Corr\",\n",
    "    \"EV / EBIT\", \"Div Br/ Patrim\", \"Cres. Rec (5a)\",\n",
    "    \"Giro Ativos\", \"Ativo\", \"Dív. Bruta\", \"Disponibilidades\",\n",
    "    \"Dív. Líquida\", \"Ativo Circulante\", \"Patrim. Líq\",\n",
    "    \"Receita Líquida\", \"EBIT\", \"Lucro Líquido\",  # <- Last 12 months infos\n",
    "    \"Receita Líquida_\", \"EBIT_\",  \"Lucro Líquido_\",  # <- Last quarted infos\n",
    "    \"Depósitos\", \"Cart. de Crédito\", \"Result Int Financ\",  # <- Last 12 months infos\n",
    "    \"Result Int Financ_\", \"Rec Serviços\", \"Rec Serviços_\",  # <- Last quarted infos\n",
    "]\n",
    "stocks_full_data_df = stocks_full_data_df[cols]\n",
    "\n",
    "# show most liquid stocks data (it also shows only the first X columns)\n",
    "print(stocks_full_data_df[stocks_full_data_df.columns[0:6]][0:5].to_string(index=False))\n",
    "print(f\"--- Total stock data rows in the list: {stocks_full_data_df.shape[0]} ---\")"
   ]
  },
  {
   "cell_type": "markdown",
   "metadata": {},
   "source": [
    "### Clean up \"-\" values from cells, replacing them with empty values"
   ]
  },
  {
   "cell_type": "code",
   "execution_count": 8,
   "metadata": {},
   "outputs": [],
   "source": [
    "stocks_full_data_df = stocks_full_data_df.replace('-', numpy.nan)"
   ]
  },
  {
   "cell_type": "markdown",
   "metadata": {},
   "source": [
    "### Output result into a file"
   ]
  },
  {
   "cell_type": "code",
   "execution_count": 9,
   "metadata": {},
   "outputs": [],
   "source": [
    "stocks_full_data_df.to_csv(\"../outputs/fundamentus.csv\", index=False)"
   ]
  }
 ],
 "metadata": {
  "colab": {
   "authorship_tag": "ABX9TyMwWrJPwqib5Rhcf3MZ181a",
   "collapsed_sections": [],
   "name": "stocks - fundamentus.ipynb",
   "provenance": []
  },
  "kernelspec": {
   "display_name": "Python 3",
   "language": "python",
   "name": "python3"
  },
  "language_info": {
   "codemirror_mode": {
    "name": "ipython",
    "version": 3
   },
   "file_extension": ".py",
   "mimetype": "text/x-python",
   "name": "python",
   "nbconvert_exporter": "python",
   "pygments_lexer": "ipython3",
   "version": "3.12.1"
  }
 },
 "nbformat": 4,
 "nbformat_minor": 4
}
