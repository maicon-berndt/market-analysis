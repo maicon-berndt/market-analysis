{
 "cells": [
  {
   "cell_type": "markdown",
   "metadata": {},
   "source": [
    "## Stocks Filter and Pre Analysis (v2)\n",
    "\n",
    "This scripts gets data from the websites filtering out stocks/company tickers according the parameters."
   ]
  },
  {
   "cell_type": "code",
   "execution_count": 1,
   "metadata": {},
   "outputs": [],
   "source": [
    "# Filter Parameters\n",
    "MIN_LIQUIDEZ_DIARIA_MEDIA     = 500_000\n",
    "MIN_FUNDAMENTEI_USERS_SCORE   = 4\n",
    "MIN_FUNDAMENTEI_USERS_REVIEWS = 50\n",
    "MAX_YEARS_FOR_HIST_DATA       = 10"
   ]
  },
  {
   "cell_type": "markdown",
   "metadata": {},
   "source": [
    "------"
   ]
  },
  {
   "cell_type": "code",
   "execution_count": null,
   "metadata": {},
   "outputs": [],
   "source": [
    "import numpy\n",
    "import os\n",
    "import pandas\n",
    "import sys\n",
    "\n",
    "from tenacity import retry, wait_random, stop_after_attempt\n",
    "from sklearn.linear_model import LinearRegression  # scikit-learn\n",
    "from tqdm import tqdm\n",
    "\n",
    "module_path = os.path.abspath(os.path.join('..'))\n",
    "if module_path not in sys.path:\n",
    "    sys.path.append(module_path)\n",
    "\n",
    "from libs.scrapers.statusinvest import StockListScraper as StatusInvestList\n",
    "from libs.scrapers.statusinvest import StockExtraInfosScraper as StatusInvestExtraInfos\n",
    "from libs.scrapers.statusinvest import StockHistIndicatorsScraper as StatusInvestHistInfos\n",
    "from libs.scrapers.fundamentei import StockInfosScraper as FundamenteiInfos\n"
   ]
  },
  {
   "cell_type": "markdown",
   "metadata": {},
   "source": [
    "------"
   ]
  },
  {
   "cell_type": "code",
   "execution_count": 3,
   "metadata": {},
   "outputs": [],
   "source": [
    "# General data from Status Invest\n",
    "stocks_general_data_df = StatusInvestList().dataframe_format"
   ]
  },
  {
   "cell_type": "code",
   "execution_count": 4,
   "metadata": {},
   "outputs": [],
   "source": [
    "# Filter out by filters\n",
    "if MIN_LIQUIDEZ_DIARIA_MEDIA:\n",
    "    stocks_general_data_df = stocks_general_data_df[\n",
    "        stocks_general_data_df[\"LIQUIDEZ MEDIA DIARIA\"] >= MIN_LIQUIDEZ_DIARIA_MEDIA\n",
    "    ]\n",
    "\n",
    "# Filter out only the less liquid stock from each company\n",
    "stocks_general_data_df[\"PREFIX\"] = stocks_general_data_df[\"TICKER\"].str.upper().str[:4]\n",
    "stocks_general_data_df.sort_values(\"LIQUIDEZ MEDIA DIARIA\", ascending=False, inplace=True)\n",
    "stocks_general_data_df.drop_duplicates(\"PREFIX\", keep=\"first\", inplace=True)\n",
    "stocks_general_data_df.drop(\"PREFIX\", axis=1, inplace=True)"
   ]
  },
  {
   "cell_type": "markdown",
   "metadata": {},
   "source": [
    "------"
   ]
  },
  {
   "cell_type": "code",
   "execution_count": 5,
   "metadata": {},
   "outputs": [],
   "source": [
    "@retry(stop=stop_after_attempt(5), wait=wait_random(min=1, max=5))\n",
    "def get_stock_infos_df(stock_ticker: str) -> pandas.DataFrame:\n",
    "    return FundamenteiInfos(stock_ticker).dataframe_format"
   ]
  },
  {
   "cell_type": "code",
   "execution_count": 6,
   "metadata": {},
   "outputs": [
    {
     "name": "stderr",
     "output_type": "stream",
     "text": [
      "100%|██████████| 226/226 [04:31<00:00,  1.20s/it]"
     ]
    },
    {
     "name": "stdout",
     "output_type": "stream",
     "text": [
      "Filed stock tickers: ['BOAS3', 'SQIA3', 'ENBR3', 'MODL3', 'PARD3', 'BRPR3']\n"
     ]
    },
    {
     "name": "stderr",
     "output_type": "stream",
     "text": [
      "\n"
     ]
    }
   ],
   "source": [
    "# get info from all stocks\n",
    "stock_infos_df = None\n",
    "failed_tickers = []\n",
    "\n",
    "for stock_ticker in tqdm(stocks_general_data_df[\"TICKER\"]):\n",
    "    try:\n",
    "        # read stock infos\n",
    "        si_df = get_stock_infos_df(stock_ticker)\n",
    "        si_df.columns = [stock_ticker]\n",
    "        si_df = si_df.T\n",
    "        stock_infos_df = pandas.concat([stock_infos_df, si_df])\n",
    "    except:\n",
    "        failed_tickers.append(stock_ticker)\n",
    "\n",
    "# show failures (tickers)\n",
    "print(f\"Filed stock tickers: {failed_tickers}\")"
   ]
  },
  {
   "cell_type": "code",
   "execution_count": 7,
   "metadata": {},
   "outputs": [],
   "source": [
    "# Convet types\n",
    "stock_infos_df[\"Nota dos Usuários\"] = stock_infos_df[\"Nota dos Usuários\"].astype(float)\n",
    "stock_infos_df[\"Num. de Votos\"] = stock_infos_df[\"Num. de Votos\"].astype(int)"
   ]
  },
  {
   "cell_type": "code",
   "execution_count": 8,
   "metadata": {},
   "outputs": [],
   "source": [
    "# Filter out by filters\n",
    "if MIN_FUNDAMENTEI_USERS_SCORE:\n",
    "    stock_infos_df = stock_infos_df[\n",
    "        stock_infos_df['Nota dos Usuários'] >= MIN_FUNDAMENTEI_USERS_SCORE\n",
    "    ]\n",
    "\n",
    "if MIN_FUNDAMENTEI_USERS_REVIEWS:\n",
    "    stock_infos_df = stock_infos_df[\n",
    "        stock_infos_df['Num. de Votos'] >= MIN_FUNDAMENTEI_USERS_REVIEWS\n",
    "    ]"
   ]
  },
  {
   "cell_type": "markdown",
   "metadata": {},
   "source": [
    "-------"
   ]
  },
  {
   "cell_type": "code",
   "execution_count": 9,
   "metadata": {},
   "outputs": [
    {
     "name": "stderr",
     "output_type": "stream",
     "text": [
      "100%|██████████| 42/42 [00:56<00:00,  1.35s/it]\n"
     ]
    }
   ],
   "source": [
    "# Get extra infos from Status Invest\n",
    "extra_infos_df = None\n",
    "\n",
    "for stock_ticker in tqdm(stock_infos_df[\"Ticker\"]):\n",
    "    ei_df = StatusInvestExtraInfos(stock_ticker).dataframe_format\n",
    "    ei_df.columns = [stock_ticker]\n",
    "    ei_df = ei_df.T\n",
    "    extra_infos_df = pandas.concat([extra_infos_df, ei_df])"
   ]
  },
  {
   "cell_type": "markdown",
   "metadata": {},
   "source": [
    "-----"
   ]
  },
  {
   "cell_type": "code",
   "execution_count": 10,
   "metadata": {},
   "outputs": [],
   "source": [
    "# Concatenate all historical data available in the website (API)\n",
    "def get_historical_data(stock_ticker: str) -> pandas.DataFrame:\n",
    "    hist_df = None\n",
    "\n",
    "    # Infos: dy, p_l, p_vp, p_ebita, p_ebit, p_sr, p_ativo, p_capitlgiro,\n",
    "    #        p_ativocirculante, ev_ebitda, ev_ebit, lpa, vpa, peg_Ratio,\n",
    "    #        dividaliquida_patrimonioliquido, dividaliquida_ebitda,\n",
    "    #        dividaliquida_ebit, patrimonio_ativo, passivo_ativo,\n",
    "    #        liquidezcorrente, margembruta, margemebitda, margemebit,\n",
    "    #        margemliquida, roe, roa, roic, giro_ativos, receitas_cagr5,\n",
    "    #        lucros_cagr5\n",
    "    hist_inds = StatusInvestHistInfos(stock_ticker).dataframe_format\n",
    "    hist_df = pandas.concat([hist_df, hist_inds])\n",
    "\n",
    "    # sort columns\n",
    "    hist_df = hist_df[sorted(hist_df.columns)]\n",
    "\n",
    "    # return hisotical indicators\n",
    "    return hist_df"
   ]
  },
  {
   "cell_type": "code",
   "execution_count": 11,
   "metadata": {},
   "outputs": [],
   "source": [
    "# Linear Regression\n",
    "def get_linear_regression_trend(series: pandas.Series) -> float:\n",
    "    # reshape\n",
    "    x = numpy.array(series.index).reshape((-1, 1))\n",
    "    y = numpy.array(series.values).reshape((-1, 1))\n",
    "\n",
    "    # calculate linear regression slope\n",
    "    model = LinearRegression()\n",
    "    model.fit(x, y)\n",
    "\n",
    "    # LR\n",
    "    # model.score(x, y)  # R\n",
    "    # model.intercept_[0]  # Intercept\n",
    "    # model.coef_[0][0]  # Slope\n",
    "\n",
    "    # predict\n",
    "    last_year = series.index.max()\n",
    "    predict_x = numpy.array([last_year, last_year + 1]).reshape((-1, 1))\n",
    "    predict_result = model.predict(predict_x)\n",
    "\n",
    "    # trend in %\n",
    "    return predict_result[1] / predict_result[0] - 1"
   ]
  },
  {
   "cell_type": "code",
   "execution_count": 12,
   "metadata": {},
   "outputs": [
    {
     "name": "stderr",
     "output_type": "stream",
     "text": [
      "100%|██████████| 42/42 [00:34<00:00,  1.24it/s]\n"
     ]
    }
   ],
   "source": [
    "for stock_ticker in tqdm(stock_infos_df[\"Ticker\"]):\n",
    "    hd_df = get_historical_data(stock_ticker).T\n",
    "\n",
    "    # limit historical data\n",
    "    if MAX_YEARS_FOR_HIST_DATA:\n",
    "        hd_df = hd_df[-MAX_YEARS_FOR_HIST_DATA:]\n",
    "\n",
    "    # get min and max years\n",
    "    stock_infos_df.loc[\n",
    "        stock_infos_df.index == stock_ticker,\n",
    "        \"Min_HY\"\n",
    "    ] = min(hd_df.index)\n",
    "\n",
    "    stock_infos_df.loc[\n",
    "        stock_infos_df.index == stock_ticker,\n",
    "        \"Max_HY\"\n",
    "    ] = max(hd_df.index)\n",
    "\n",
    "    # get positives years percentage and last negative year\n",
    "    for pos_neg_years in [\n",
    "        \"lpa\", \"margembruta\", \"margemliquida\",\n",
    "    ]:\n",
    "        pos_neg_years_df = hd_df[pos_neg_years].dropna() if pos_neg_years in hd_df else []\n",
    "        if len(pos_neg_years_df) > 0:\n",
    "            # % yers with positive values\n",
    "            stock_infos_df.loc[\n",
    "                stock_infos_df.index == stock_ticker,\n",
    "                f\"{pos_neg_years}_PY\"\n",
    "            ] = pos_neg_years_df.ge(0).sum() / len(pos_neg_years_df)\n",
    "            # last negative year\n",
    "            neg_years = pos_neg_years_df.loc[pos_neg_years_df.lt(0)]\n",
    "            if len(neg_years) > 0:\n",
    "                stock_infos_df.loc[\n",
    "                    stock_infos_df.index == stock_ticker,\n",
    "                    f\"{pos_neg_years}_LNY\"\n",
    "                ] = neg_years.index[-1]\n",
    "\n",
    "    # get average value\n",
    "    for hist_avg_ind in [\n",
    "        \"lpa\", \"margembruta\", \"margemliquida\", \"dividaliquida_ebit\",\n",
    "    ]:\n",
    "        hist_avg_df = hd_df[hist_avg_ind].dropna() if hist_avg_ind in hd_df else []\n",
    "        if len(hist_avg_df) > 0:\n",
    "            # trend\n",
    "            stock_infos_df.loc[\n",
    "                stock_infos_df.index == stock_ticker,\n",
    "                f\"{hist_avg_ind}_AV\"\n",
    "            ] = hist_avg_df.sum() / len(hist_avg_df)\n",
    "    \n",
    "    # get trend info\n",
    "    for hist_trend_ind in [\n",
    "        \"lpa\", \"margembruta\", \"margemliquida\", \"dividaliquida_ebit\",\n",
    "    ]:\n",
    "        hist_trend_df = hd_df[hist_trend_ind].dropna() if hist_trend_ind in hd_df else []\n",
    "        if len(hist_trend_df) > 0:\n",
    "            # trend\n",
    "            stock_infos_df.loc[\n",
    "                stock_infos_df.index == stock_ticker,\n",
    "                f\"{hist_trend_ind}_LR\"\n",
    "            ] = get_linear_regression_trend(hist_trend_df)"
   ]
  },
  {
   "cell_type": "markdown",
   "metadata": {},
   "source": [
    "--------"
   ]
  },
  {
   "cell_type": "code",
   "execution_count": 13,
   "metadata": {},
   "outputs": [],
   "source": [
    "filtered_data = stock_infos_df.join(\n",
    "    stocks_general_data_df[[\n",
    "        \"PRECO\",\n",
    "        \"P/L\",\n",
    "        \"P/VP\",\n",
    "        \"EV/EBIT\",\n",
    "        \"DIVIDA LIQUIDA / EBIT\",\n",
    "        \"MARGEM BRUTA\",\n",
    "        \"MARG. LIQUIDA\",\n",
    "        \"LIQ. CORRENTE\",\n",
    "        \"CAGR RECEITAS 5 ANOS\",\n",
    "        \"CAGR LUCROS 5 ANOS\",\n",
    "        \"LIQUIDEZ MEDIA DIARIA\",\n",
    "        \"VPA\",\n",
    "        \"LPA\",\n",
    "    ]]\n",
    ").join(\n",
    "    extra_infos_df[[\n",
    "        'Tickers Opções',\n",
    "        'Vol Histórica',\n",
    "    ]]\n",
    ")"
   ]
  },
  {
   "cell_type": "code",
   "execution_count": 14,
   "metadata": {},
   "outputs": [],
   "source": [
    "filtered_data = filtered_data[[\n",
    "    'Ticker',\n",
    "    'Nome da Empresa',\n",
    "    'Setor de Atuação',\n",
    "    'Nota dos Usuários',\n",
    "    'Num. de Votos',\n",
    "    'Segmento de Listagem',\n",
    "    'Tag Along',\n",
    "    'Free Float',\n",
    "    'Listagem CVM',\n",
    "    'Fundação',\n",
    "    # Options\n",
    "    'Tickers Opções',\n",
    "    'Vol Histórica',\n",
    "    # General Infos\n",
    "    'LIQUIDEZ MEDIA DIARIA',\n",
    "    'PRECO',\n",
    "    'VPA',\n",
    "    'P/L',\n",
    "    'P/VP',\n",
    "    'EV/EBIT',\n",
    "    'LIQ. CORRENTE',\n",
    "    'CAGR RECEITAS 5 ANOS',\n",
    "    'CAGR LUCROS 5 ANOS',   \n",
    "    # LPA\n",
    "    'LPA',\n",
    "    'lpa_AV',\n",
    "    'lpa_LR',\n",
    "    'lpa_PY',\n",
    "    'lpa_LNY',\n",
    "    # MARGEM BRUTA\n",
    "    'MARGEM BRUTA', \n",
    "    'margembruta_AV',\n",
    "    'margembruta_LR',\n",
    "    'margembruta_PY',\n",
    "    'margembruta_LNY',\n",
    "    # MARG. LIQUIDA\n",
    "    'MARG. LIQUIDA',\n",
    "    'margemliquida_AV',\n",
    "    'margemliquida_LR',\n",
    "    'margemliquida_PY',\n",
    "    'margemliquida_LNY',\n",
    "    # DIVIDA LIQUIDA / EBIT\n",
    "    'DIVIDA LIQUIDA / EBIT',\n",
    "    'dividaliquida_ebit_AV',\n",
    "    'dividaliquida_ebit_LR',\n",
    "    # Years\n",
    "    'Min_HY',\n",
    "    'Max_HY', \n",
    "]]"
   ]
  },
  {
   "cell_type": "markdown",
   "metadata": {},
   "source": [
    "-----"
   ]
  },
  {
   "cell_type": "markdown",
   "metadata": {},
   "source": [
    "### Store result data"
   ]
  },
  {
   "cell_type": "code",
   "execution_count": 15,
   "metadata": {},
   "outputs": [],
   "source": [
    "filtered_data.to_csv(\"../outputs/stocks_filter_v2.csv\", sep=\";\")\n",
    "filtered_data.to_excel(\"../outputs/stocks_filter_v2.xlsx\")"
   ]
  }
 ],
 "metadata": {
  "kernelspec": {
   "display_name": ".venv",
   "language": "python",
   "name": "python3"
  },
  "language_info": {
   "codemirror_mode": {
    "name": "ipython",
    "version": 3
   },
   "file_extension": ".py",
   "mimetype": "text/x-python",
   "name": "python",
   "nbconvert_exporter": "python",
   "pygments_lexer": "ipython3",
   "version": "3.12.2"
  }
 },
 "nbformat": 4,
 "nbformat_minor": 2
}
